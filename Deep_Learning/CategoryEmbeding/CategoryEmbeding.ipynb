{
  "nbformat": 4,
  "nbformat_minor": 0,
  "metadata": {
    "kernelspec": {
      "display_name": "Python 3",
      "language": "python",
      "name": "python3"
    },
    "language_info": {
      "codemirror_mode": {
        "name": "ipython",
        "version": 3
      },
      "file_extension": ".py",
      "mimetype": "text/x-python",
      "name": "python",
      "nbconvert_exporter": "python",
      "pygments_lexer": "ipython3",
      "version": "3.7.6"
    },
    "colab": {
      "name": "Copy of Ass2_3c.ipynb",
      "provenance": [],
      "collapsed_sections": [],
      "toc_visible": true
    }
  },
  "cells": [
    {
      "cell_type": "markdown",
      "metadata": {
        "id": "0V6nklIajlnx"
      },
      "source": [
        "# Part 3"
      ]
    },
    {
      "cell_type": "code",
      "metadata": {
        "id": "FK-L-cWyMqqh",
        "colab": {
          "base_uri": "https://localhost:8080/"
        },
        "outputId": "d69544fa-4036-4ab2-cc26-d0f7b73a66ba"
      },
      "source": [
        "from google.colab import drive\r\n",
        "drive.mount(\"/content/drive\")"
      ],
      "execution_count": 1,
      "outputs": [
        {
          "output_type": "stream",
          "text": [
            "Mounted at /content/drive\n"
          ],
          "name": "stdout"
        }
      ]
    },
    {
      "cell_type": "code",
      "metadata": {
        "id": "d2tw5ILFLrsK"
      },
      "source": [
        "import pandas as pd\n",
        "import numpy as np\n",
        "import math \n",
        "from tensorflow.keras.layers import Input, Embedding, dot, Dot, add,Flatten, concatenate, Concatenate,Dropout, Dense, BatchNormalization, add\n",
        "from tensorflow.keras.utils import to_categorical\n",
        "from tensorflow.keras.regularizers import l2\n",
        "from tensorflow.keras.models import Model\n",
        "from tensorflow.keras.optimizers import Adam\n",
        "from tqdm import tqdm\n",
        "import xgboost as xgb\n",
        "from sklearn.ensemble import RandomForestRegressor\n",
        "import gc; gc.enable()\n",
        "from sklearn import preprocessing, metrics\n",
        "from sklearn.metrics import mean_squared_error\n",
        "encoder = preprocessing.LabelEncoder()\n",
        "from tensorflow.keras.callbacks import *\n",
        "from sklearn.model_selection import train_test_split\n",
        "import matplotlib.pyplot as plt\n",
        "import seaborn as sns\n",
        "from sklearn.feature_selection import SelectFromModel\n",
        "import timeit\n",
        "path = '/content/drive/MyDrive/Ass2_data/'"
      ],
      "execution_count": 2,
      "outputs": []
    },
    {
      "cell_type": "code",
      "metadata": {
        "id": "S9v9B3EXLrsM"
      },
      "source": [
        "def reduce_mem_usage(df):\n",
        "  start_mem=df.memory_usage().sum() / 1024**2\n",
        "\n",
        "  for col in tqdm(df.columns) :\n",
        "    col_type=df[col].dtype\n",
        "    if col_type != object and col_type.name!='category' and 'datetime' not in col_type.name:\n",
        "      c_min= df[col].min()\n",
        "      c_max= df[col].max()\n",
        "      if str(col_type)[:3] == 'int':\n",
        "\n",
        "        if c_min> np.iinfo(np.int8).min and c_max < np.iinfo(np.int8).max:\n",
        "          df[col]=df[col].astype(np.int8)\n",
        "        elif c_min> np.iinfo(np.int16).min and c_max < np.iinfo(np.int16).max:\n",
        "          df[col]=df[col].astype(np.int16)\n",
        "        elif c_min> np.iinfo(np.int32).min and c_max < np.iinfo(np.int32).max:\n",
        "          df[col]=df[col].astype(np.int32)\n",
        "        elif c_min> np.iinfo(np.int64).min and c_max < np.iinfo(np.int64).max:\n",
        "          df[col]=df[col].astype(np.int64)\n",
        "        \n",
        "      else:\n",
        "        if c_min> np.finfo(np.float16).min and c_max < np.finfo(np.float16).max:\n",
        "          df[col]=df[col].astype(np.float16)\n",
        "        elif c_min> np.finfo(np.float32).min and c_max < np.finfo(np.float32).max:\n",
        "          df[col]=df[col].astype(np.float32)\n",
        "        else:\n",
        "          df[col]=df[col].astype(np.float64)\n",
        "      \n",
        "    elif 'datatime' not in col_type.name:\n",
        "      df[col]= df[col].astype('category')\n",
        "    \n",
        "  end_mem=df.memory_usage().sum()/1024**2\n",
        "  return df\n",
        "\n",
        "def import_data(file):\n",
        "    \"\"\"create a dataframe and optimize its memory usage\"\"\"\n",
        "    df = pd.read_csv(file, parse_dates=True, keep_date_col=True)\n",
        "    df = reduce_mem_usage(df)\n",
        "    return df"
      ],
      "execution_count": 3,
      "outputs": []
    },
    {
      "cell_type": "markdown",
      "metadata": {
        "id": "F3a5QdKKjy9u"
      },
      "source": [
        "## a. Group name"
      ]
    },
    {
      "cell_type": "code",
      "metadata": {
        "id": "_11hgKs9htec"
      },
      "source": [
        "'''   BGU-DL Happy tree friends   '''"
      ],
      "execution_count": null,
      "outputs": []
    },
    {
      "cell_type": "markdown",
      "metadata": {
        "id": "oZCZ_XIzx8cg"
      },
      "source": [
        "## b. Form a solid benchmark, Use classical ML algorithm"
      ]
    },
    {
      "cell_type": "markdown",
      "metadata": {
        "id": "saMZsviokqYR"
      },
      "source": [
        "Data preperation :\r\n",
        "read data, fill NA, normalize, analize, create features\r\n",
        "\r\n",
        "To predict the target \"unit sales\" of the test dataset, \r\n",
        "we decided to create store, item and dates features"
      ]
    },
    {
      "cell_type": "markdown",
      "metadata": {
        "id": "0kfxrnaAyyQ7"
      },
      "source": [
        "Data reading"
      ]
    },
    {
      "cell_type": "code",
      "metadata": {
        "id": "2_2I3aQELrsN"
      },
      "source": [
        "dtypes_dict = {'id':'int64', 'item_nbr':'int32', 'store_nbr':'int8', 'onpromotion':'float16'}"
      ],
      "execution_count": 4,
      "outputs": []
    },
    {
      "cell_type": "code",
      "metadata": {
        "id": "qZqbZYDYVZth"
      },
      "source": [
        "train_data = pd.read_csv(path + 'train.csv', parse_dates=['date'], dtype=dtypes_dict)\r\n",
        "train_data['year'] = train_data['date'].dt.year"
      ],
      "execution_count": 5,
      "outputs": []
    },
    {
      "cell_type": "markdown",
      "metadata": {
        "id": "1ClskUr-nvQ_"
      },
      "source": [
        "Filter data beacause of memory problem\r\n",
        "we choose to filter the data to year=2017\r\n"
      ]
    },
    {
      "cell_type": "code",
      "metadata": {
        "id": "t12Dl5H4ntcG"
      },
      "source": [
        "train_data = train_data.query('year == 2017')"
      ],
      "execution_count": 6,
      "outputs": []
    },
    {
      "cell_type": "markdown",
      "metadata": {
        "id": "Pwh206_hygVX"
      },
      "source": [
        "Fill NA values"
      ]
    },
    {
      "cell_type": "code",
      "metadata": {
        "colab": {
          "base_uri": "https://localhost:8080/"
        },
        "id": "gN7s9aQ3WF2F",
        "outputId": "62e95293-e78a-41bf-887b-a7a75dd838d7"
      },
      "source": [
        "def find_nan_values(df):\r\n",
        "    if df.isnull().values.any():\r\n",
        "        null_columns=df.columns[df.isnull().any()].tolist()\r\n",
        "        for column in null_columns:\r\n",
        "            total_values=df.shape[0]\r\n",
        "            null_values=df[column].isnull().sum()\r\n",
        "            print(\"No of Nan values in '{}' column --> {}\".format(column,null_values))\r\n",
        "            print(\"{:.2f} % of total values\".format(100*null_values / total_values))\r\n",
        "            print(\"\\n\")\r\n",
        "    else:\r\n",
        "            print(\"no nan values...\")\r\n",
        "find_nan_values(train_data)\r\n",
        "train_data['onpromotion'] = train_data['onpromotion'].fillna(np.int(0))"
      ],
      "execution_count": 7,
      "outputs": [
        {
          "output_type": "stream",
          "text": [
            "no nan values...\n"
          ],
          "name": "stdout"
        }
      ]
    },
    {
      "cell_type": "markdown",
      "metadata": {
        "id": "uja3ZTgkyV8l"
      },
      "source": [
        "Normalize target feature with log"
      ]
    },
    {
      "cell_type": "code",
      "metadata": {
        "id": "NDevCojSM6fo"
      },
      "source": [
        "def log1p_normalization(col):\r\n",
        "  list=[]\r\n",
        "  for value in tqdm(col):\r\n",
        "    if float(value) > 0:\r\n",
        "      value=np.log2(float(value)+1)\r\n",
        "    else:\r\n",
        "      value=0\r\n",
        "    list.append(value)\r\n",
        "  return list"
      ],
      "execution_count": 8,
      "outputs": []
    },
    {
      "cell_type": "code",
      "metadata": {
        "colab": {
          "base_uri": "https://localhost:8080/"
        },
        "id": "rtJTa1qJ9ipT",
        "outputId": "63859666-dc4d-48e6-e836-554b8a66a565"
      },
      "source": [
        "train_data['unit_sales']=log1p_normalization(train_data['unit_sales'])"
      ],
      "execution_count": 9,
      "outputs": [
        {
          "output_type": "stream",
          "text": [
            "100%|██████████| 23808261/23808261 [00:37<00:00, 632885.38it/s]\n"
          ],
          "name": "stderr"
        }
      ]
    },
    {
      "cell_type": "markdown",
      "metadata": {
        "id": "BfyC1UqQvLsu"
      },
      "source": [
        "analizing data:\r\n",
        "we display plots to understand the distribution of our features\r\n",
        "in this stage, we are analizing the basic features( store, item and date features)\r\n",
        "\r\n",
        "---\r\n",
        "\r\n"
      ]
    },
    {
      "cell_type": "code",
      "metadata": {
        "id": "C64SyI-h0wyN"
      },
      "source": [
        "def plot_bar_plot(df, y_col=\"unit_sales\",title ='title', x_label='x_label', y_label='y_label'):\r\n",
        "  fig, ax = plt.subplots()\r\n",
        "  fig.set_size_inches(15,8)\r\n",
        "  ax= sns.barplot(x = df.index, y =y_col, data = df)\r\n",
        "  plt.title(title, fontsize=15)\r\n",
        "  plt.ylabel(y_label)\r\n",
        "  plt.xlabel(x_label)\r\n",
        "  plt.show()"
      ],
      "execution_count": 10,
      "outputs": []
    },
    {
      "cell_type": "code",
      "metadata": {
        "id": "7skOyGnZvL_1",
        "colab": {
          "base_uri": "https://localhost:8080/",
          "height": 514
        },
        "outputId": "8454028f-384e-4bc8-b66e-0f189c493f4d"
      },
      "source": [
        "x = train_data.groupby(['store_nbr'], as_index = False).agg({'unit_sales':'sum'})\r\n",
        "plot_bar_plot(x,title='Unit Sales per Store No.', x_label='Store No.', y_label='Unit Sales')"
      ],
      "execution_count": 11,
      "outputs": [
        {
          "output_type": "display_data",
          "data": {
            "image/png": "[encoded data removed]",
            "text/plain": [
              "<Figure size 1080x576 with 1 Axes>"
            ]
          },
          "metadata": {
            "tags": [],
            "needs_background": "light"
          }
        }
      ]
    },
    {
      "cell_type": "code",
      "metadata": {
        "id": "noP0I7uz2RG3"
      },
      "source": [
        "train_data['month'] = train_data['date'].dt.month"
      ],
      "execution_count": 12,
      "outputs": []
    },
    {
      "cell_type": "code",
      "metadata": {
        "id": "yDqid-LT2dEM",
        "colab": {
          "base_uri": "https://localhost:8080/",
          "height": 514
        },
        "outputId": "1a016df3-a64c-45d1-8380-3d302e5b9ce4"
      },
      "source": [
        "x = train_data.groupby([\"month\"], as_index=False).agg({'unit_sales':'sum'})\r\n",
        "plot_bar_plot(x,title='Unit Sales per Month', x_label='Month', y_label='Unit Sales')"
      ],
      "execution_count": 13,
      "outputs": [
        {
          "output_type": "display_data",
          "data": {
            "image/png": "[encoded data removed]",
            "text/plain": [
              "<Figure size 1080x576 with 1 Axes>"
            ]
          },
          "metadata": {
            "tags": [],
            "needs_background": "light"
          }
        }
      ]
    },
    {
      "cell_type": "code",
      "metadata": {
        "id": "zNCQzYZS3mg_"
      },
      "source": [
        "train_data['day_of_month'] = train_data['date'].dt.day"
      ],
      "execution_count": 14,
      "outputs": []
    },
    {
      "cell_type": "code",
      "metadata": {
        "id": "c_kWWlU44IGy",
        "colab": {
          "base_uri": "https://localhost:8080/",
          "height": 514
        },
        "outputId": "42ea66d3-11f6-4377-c18f-ab9c6d3ad254"
      },
      "source": [
        "x = train_data.groupby([\"day_of_month\"], as_index=False).agg({'unit_sales':'sum'})\r\n",
        "plot_bar_plot(x,title='Unit Sales per Day of month', x_label='Day of month', y_label='Unit Sales')"
      ],
      "execution_count": 15,
      "outputs": [
        {
          "output_type": "display_data",
          "data": {
            "image/png": "[encoded data removed]",
            "text/plain": [
              "<Figure size 1080x576 with 1 Axes>"
            ]
          },
          "metadata": {
            "tags": [],
            "needs_background": "light"
          }
        }
      ]
    },
    {
      "cell_type": "code",
      "metadata": {
        "id": "Xscm--ki4_Gz"
      },
      "source": [
        "train_data['day_of_week'] = train_data['date'].dt.dayofweek"
      ],
      "execution_count": 16,
      "outputs": []
    },
    {
      "cell_type": "code",
      "metadata": {
        "id": "uz__2Ddf4_Zd",
        "colab": {
          "base_uri": "https://localhost:8080/",
          "height": 514
        },
        "outputId": "052cd3ea-5892-492b-a44c-ef0cdcd3bf28"
      },
      "source": [
        "x = train_data.groupby([\"day_of_week\"], as_index=False).agg({'unit_sales':'sum'})\r\n",
        "plot_bar_plot(x,title='Unit Sales per Day of week', x_label='Day of week', y_label='Unit Sales')"
      ],
      "execution_count": 17,
      "outputs": [
        {
          "output_type": "display_data",
          "data": {
            "image/png": "[encoded data removed]",
            "text/plain": [
              "<Figure size 1080x576 with 1 Axes>"
            ]
          },
          "metadata": {
            "tags": [],
            "needs_background": "light"
          }
        }
      ]
    },
    {
      "cell_type": "code",
      "metadata": {
        "colab": {
          "base_uri": "https://localhost:8080/"
        },
        "id": "UAGxwbgK-UWF",
        "outputId": "121590ad-eaab-421b-9e4d-67c24547aefd"
      },
      "source": [
        "train_data = reduce_mem_usage(train_data)\r\n",
        "store_data = pd.read_csv(path + 'stores.csv')\r\n",
        "store_data = reduce_mem_usage(store_data)\r\n",
        "item_data = pd.read_csv(path + 'items.csv')\r\n",
        "item_data = reduce_mem_usage(item_data)"
      ],
      "execution_count": 18,
      "outputs": [
        {
          "output_type": "stream",
          "text": [
            "100%|██████████| 10/10 [00:02<00:00,  4.89it/s]\n",
            "100%|██████████| 5/5 [00:00<00:00, 742.67it/s]\n",
            "100%|██████████| 4/4 [00:00<00:00, 490.52it/s]\n"
          ],
          "name": "stderr"
        }
      ]
    },
    {
      "cell_type": "markdown",
      "metadata": {
        "id": "4fDB7_w0wAMs"
      },
      "source": [
        "create dictionary of unique value encode for each object"
      ]
    },
    {
      "cell_type": "code",
      "metadata": {
        "colab": {
          "base_uri": "https://localhost:8080/"
        },
        "id": "aLIcLtpin7eR",
        "outputId": "965da52e-627b-400f-c24d-8669f551ff3b"
      },
      "source": [
        "stores_enc = {v:k for (k,v) in enumerate(store_data.store_nbr.unique())}\r\n",
        "items_enc = {v:k for (k,v) in enumerate(item_data.item_nbr.unique())}\r\n",
        "n_stores = len(stores_enc)\r\n",
        "n_items = len(items_enc)\r\n",
        "n_stores,n_items"
      ],
      "execution_count": 19,
      "outputs": [
        {
          "output_type": "execute_result",
          "data": {
            "text/plain": [
              "(54, 4100)"
            ]
          },
          "metadata": {
            "tags": []
          },
          "execution_count": 19
        }
      ]
    },
    {
      "cell_type": "code",
      "metadata": {
        "id": "DZrTgGOzsQwL"
      },
      "source": [
        "onpromotion_enc = {v:k for (k,v) in enumerate(train_data.onpromotion.unique())}\r\n",
        "family_enc = {v:k for (k,v) in enumerate(item_data.family.unique())}\r\n",
        "class_enc = {v:k for (k,v) in enumerate(item_data['class'].unique())}\r\n",
        "perishable_enc = {v:k for (k,v) in enumerate(item_data.perishable.unique())}\r\n",
        "city_enc = {v:k for (k,v) in enumerate(store_data.city.unique())}\r\n",
        "state_enc = {v:k for (k,v) in enumerate(store_data.state.unique())}\r\n",
        "type_enc = {v:k for (k,v) in enumerate(store_data['type'].unique())}\r\n",
        "cluster_enc = {v:k for (k,v) in enumerate(store_data.cluster.unique())}\r\n"
      ],
      "execution_count": 20,
      "outputs": []
    },
    {
      "cell_type": "markdown",
      "metadata": {
        "id": "v2Mv-DBD00Pg"
      },
      "source": [
        "Feature encoding - Stores & Items"
      ]
    },
    {
      "cell_type": "code",
      "metadata": {
        "colab": {
          "base_uri": "https://localhost:8080/"
        },
        "id": "D9D81JBu9yXd",
        "outputId": "7a0de2c9-31f8-493d-a6a9-7450414a5b37"
      },
      "source": [
        "train_data['s_enc'] = [stores_enc[x] for x in train_data['store_nbr']]\r\n",
        "train_data['i_enc'] = [items_enc[x] for x in train_data['item_nbr']]\r\n",
        "train_data = reduce_mem_usage(train_data)"
      ],
      "execution_count": 21,
      "outputs": [
        {
          "output_type": "stream",
          "text": [
            "100%|██████████| 12/12 [00:02<00:00,  5.67it/s]\n"
          ],
          "name": "stderr"
        }
      ]
    },
    {
      "cell_type": "code",
      "metadata": {
        "colab": {
          "base_uri": "https://localhost:8080/"
        },
        "id": "hq1URv9VQwZb",
        "outputId": "6613e03b-3938-4083-c4be-63fef1564e0d"
      },
      "source": [
        "del store_data; gc.collect()\r\n",
        "del item_data; gc.collect()"
      ],
      "execution_count": 22,
      "outputs": [
        {
          "output_type": "execute_result",
          "data": {
            "text/plain": [
              "0"
            ]
          },
          "metadata": {
            "tags": []
          },
          "execution_count": 22
        }
      ]
    },
    {
      "cell_type": "markdown",
      "metadata": {
        "id": "6sDeRv0b1WO_"
      },
      "source": [
        "Feature encoding - DayOfWeek & DayOfMonth & Month & Year"
      ]
    },
    {
      "cell_type": "code",
      "metadata": {
        "id": "CAKkWEnNLrsV"
      },
      "source": [
        "dow_enc = {v:k for (k,v) in enumerate(train_data.day_of_week.unique())}\n",
        "dom_enc = {v:k for (k,v) in enumerate(train_data.day_of_month.unique())}\n",
        "m_enc = {v:k for (k,v) in enumerate(train_data.month.unique())}\n",
        "y_enc = {v:k for (k,v) in enumerate(train_data.year.unique())}"
      ],
      "execution_count": 23,
      "outputs": []
    },
    {
      "cell_type": "code",
      "metadata": {
        "colab": {
          "base_uri": "https://localhost:8080/"
        },
        "id": "clAIxCeKFJZO",
        "outputId": "c7ae9506-c1e6-4b0f-bb38-f811051256a2"
      },
      "source": [
        "train_data['day_of_week'] = [dow_enc[x] for x in train_data['day_of_week']]\r\n",
        "train_data = reduce_mem_usage(train_data)\r\n",
        "train_data['day_of_month'] = [dom_enc[x] for x in train_data['day_of_month']]\r\n",
        "train_data = reduce_mem_usage(train_data)\r\n",
        "train_data['month'] = [m_enc[x] for x in train_data['month']]\r\n",
        "train_data = reduce_mem_usage(train_data)\r\n",
        "train_data['year'] = [y_enc[x] for x in train_data['year']]\r\n",
        "train_data = reduce_mem_usage(train_data)"
      ],
      "execution_count": 24,
      "outputs": [
        {
          "output_type": "stream",
          "text": [
            "100%|██████████| 12/12 [00:02<00:00,  5.72it/s]\n",
            "100%|██████████| 12/12 [00:02<00:00,  5.73it/s]\n",
            "100%|██████████| 12/12 [00:02<00:00,  5.69it/s]\n",
            "100%|██████████| 12/12 [00:02<00:00,  5.84it/s]\n"
          ],
          "name": "stderr"
        }
      ]
    },
    {
      "cell_type": "code",
      "metadata": {
        "id": "QEJ9zvaH9d51"
      },
      "source": [
        "n_days_of_month = len(train_data.day_of_month.unique())\r\n",
        "n_days_of_week = len(train_data.day_of_week.unique())\r\n",
        "n_months = len(train_data.month.unique())\r\n",
        "n_years = len(train_data.year.unique())"
      ],
      "execution_count": 25,
      "outputs": []
    },
    {
      "cell_type": "markdown",
      "metadata": {
        "id": "SXvq0gRjJQaK"
      },
      "source": [
        "reading & preprocessing test data\r\n",
        "we prepare the test data in the same way we prepare the train data"
      ]
    },
    {
      "cell_type": "code",
      "metadata": {
        "id": "fb6wkV7GKz8n"
      },
      "source": [
        "def create_csv_to_kaggle(path, preds):\r\n",
        "  preds_kaggle = pd.DataFrame(test_data['id'])\r\n",
        "  preds_kaggle['unit_sales']=pd.DataFrame(preds)\r\n",
        "  preds_kaggle['unit_sales']=(pow(2, preds_kaggle['unit_sales']))-1\r\n",
        "  preds_kaggle.to_csv(path, index=False)\r\n",
        "  return preds_kaggle"
      ],
      "execution_count": 26,
      "outputs": []
    },
    {
      "cell_type": "code",
      "metadata": {
        "colab": {
          "base_uri": "https://localhost:8080/"
        },
        "id": "jTl45EZ4d9YT",
        "outputId": "daba4f53-6107-4870-fb39-01a757c451aa"
      },
      "source": [
        "test_data = pd.read_csv(path + 'test.csv', parse_dates=['date'], dtype=dtypes_dict)\r\n",
        "test_data = reduce_mem_usage(test_data)\r\n",
        "test_data['year'] = test_data['date'].dt.year\r\n",
        "test_data['month'] = test_data['date'].dt.month\r\n",
        "test_data['day_of_month'] = test_data['date'].dt.day\r\n",
        "test_data['day_of_week'] = test_data['date'].dt.dayofweek\r\n",
        "test_data = reduce_mem_usage(test_data)"
      ],
      "execution_count": 27,
      "outputs": [
        {
          "output_type": "stream",
          "text": [
            "100%|██████████| 5/5 [00:00<00:00, 26.27it/s]\n",
            "100%|██████████| 9/9 [00:00<00:00, 45.10it/s]\n"
          ],
          "name": "stderr"
        }
      ]
    },
    {
      "cell_type": "code",
      "metadata": {
        "id": "ewZwn1unJmBR",
        "colab": {
          "base_uri": "https://localhost:8080/"
        },
        "outputId": "9509194a-8742-4507-c7b9-44f4e747b656"
      },
      "source": [
        "test_data['s_enc'] = [stores_enc[x] for x in test_data['store_nbr']]\r\n",
        "test_data['i_enc'] = [items_enc[x] for x in test_data['item_nbr']]\r\n",
        "test_data['day_of_week'] = [dow_enc[x] for x in test_data['day_of_week']]\r\n",
        "test_data['day_of_month'] = [dom_enc[x] for x in test_data['day_of_month']]\r\n",
        "test_data['month'] = [m_enc[x] for x in test_data['month']]\r\n",
        "test_data['year'] = [y_enc[x] for x in test_data['year']]\r\n",
        "test_data = reduce_mem_usage(test_data)"
      ],
      "execution_count": 28,
      "outputs": [
        {
          "output_type": "stream",
          "text": [
            "100%|██████████| 11/11 [00:00<00:00, 47.28it/s]\n"
          ],
          "name": "stderr"
        }
      ]
    },
    {
      "cell_type": "code",
      "metadata": {
        "colab": {
          "base_uri": "https://localhost:8080/"
        },
        "id": "aq-I5NT4o6m9",
        "outputId": "acc92eb8-8a84-4897-ec72-619dd9218ca5"
      },
      "source": [
        "find_nan_values(test_data)\r\n",
        "test_data = reduce_mem_usage(test_data)"
      ],
      "execution_count": 29,
      "outputs": [
        {
          "output_type": "stream",
          "text": [
            "100%|██████████| 11/11 [00:00<00:00, 55.27it/s]"
          ],
          "name": "stderr"
        },
        {
          "output_type": "stream",
          "text": [
            "no nan values...\n"
          ],
          "name": "stdout"
        },
        {
          "output_type": "stream",
          "text": [
            "\n"
          ],
          "name": "stderr"
        }
      ]
    },
    {
      "cell_type": "markdown",
      "metadata": {
        "id": "Z6wWVji74MyS"
      },
      "source": [
        "ML Algorithm:\r\n",
        "We will use two classical ML Algorithm to predict the target \"unit costs\"\r\n",
        "XGB Regressor & Random Forest Regressor"
      ]
    },
    {
      "cell_type": "code",
      "metadata": {
        "id": "sJQcMoSF1Zeh"
      },
      "source": [
        "def Add_Score_to_result_table(df_result, col_name, col_score):\r\n",
        "  df_result[col_name] = col_score\r\n",
        "  return df_result\r\n",
        "res_col = ['train_score', 'val_score', 'test_score']\r\n",
        "scores_table = pd.DataFrame(res_col)"
      ],
      "execution_count": 72,
      "outputs": []
    },
    {
      "cell_type": "code",
      "metadata": {
        "id": "2MVxISnX4Jmb"
      },
      "source": [
        "def NWRMSLE(y, pred, w=None):\r\n",
        "    return metrics.mean_squared_error(y, pred,sample_weight=w)**0.5"
      ],
      "execution_count": 31,
      "outputs": []
    },
    {
      "cell_type": "code",
      "metadata": {
        "id": "dymDJf2M7twh"
      },
      "source": [
        "def ML_algorithm_predict(df, ML_algorithm):\r\n",
        "  ml = ML_algorithm\r\n",
        "  temp_df = df[['s_enc','i_enc', 'day_of_month', 'day_of_week', 'month', 'year']]\r\n",
        "  tst_preds = ml.predict(temp_df)\r\n",
        "  del temp_df;gc.collect()\r\n",
        "  return tst_preds"
      ],
      "execution_count": 32,
      "outputs": []
    },
    {
      "cell_type": "markdown",
      "metadata": {
        "id": "bdqwx-jPw7iG"
      },
      "source": [
        "Split the train data to train set and validation set\r\n",
        "to simulate the prediction of the test set this is the best partition of the data"
      ]
    },
    {
      "cell_type": "code",
      "metadata": {
        "colab": {
          "base_uri": "https://localhost:8080/"
        },
        "id": "D0G2sdmaZ_hK",
        "outputId": "51434f92-0b04-416e-89f1-6bddd618b60e"
      },
      "source": [
        "tr_data = train_data.query('month < 7')\r\n",
        "val_data = train_data.query('month == 7')\r\n",
        "len(tr_data), len(val_data)"
      ],
      "execution_count": 33,
      "outputs": [
        {
          "output_type": "execute_result",
          "data": {
            "text/plain": [
              "(22237293, 1570968)"
            ]
          },
          "metadata": {
            "tags": []
          },
          "execution_count": 33
        }
      ]
    },
    {
      "cell_type": "markdown",
      "metadata": {
        "id": "k84B9GSTybzZ"
      },
      "source": [
        "### ML Algorithm : XGB Regressor"
      ]
    },
    {
      "cell_type": "code",
      "metadata": {
        "colab": {
          "base_uri": "https://localhost:8080/"
        },
        "id": "BgYCmXBLanQt",
        "outputId": "22b46941-56cb-41fc-d761-0ad526ec3ae0"
      },
      "source": [
        "xg_reg = xgb.XGBRegressor(objective ='reg:linear', colsample_bytree = 0.3, learning_rate = 0.1,max_depth = 3, alpha = 10, n_estimators = 5)\r\n",
        "temp_df = tr_data[['s_enc','i_enc', 'day_of_month', 'day_of_week', 'month', 'year']]\r\n",
        "xg_reg.fit(temp_df, tr_data.unit_sales)\r\n",
        "tr_preds = xg_reg.predict(temp_df)\r\n",
        "tr_loss_mse = NWRMSLE(tr_data.unit_sales, tr_preds, [1]*len(tr_data))\r\n",
        "print('2017_train_loss:'+str(tr_loss_mse))\r\n",
        "temp_df = val_data[['s_enc','i_enc', 'day_of_month', 'day_of_week', 'month', 'year']]\r\n",
        "val_preds = xg_reg.predict(temp_df)\r\n",
        "val_loss_mse = NWRMSLE(val_data.unit_sales, val_preds, [1]*len(val_data))\r\n",
        "print('2017_val_loss:'+str(val_loss_mse))"
      ],
      "execution_count": null,
      "outputs": [
        {
          "output_type": "stream",
          "text": [
            "[12:15:33] WARNING: /workspace/src/objective/regression_obj.cu:152: reg:linear is now deprecated in favor of reg:squarederror.\n",
            "[12:15:33] WARNING: /workspace/src/learner.cc:686: Tree method is automatically selected to be 'approx' for faster speed. To use old behavior (exact greedy algorithm on single machine), set tree_method to 'exact'.\n",
            "2017_train_loss:1.6905909416111866\n",
            "2017_val_loss:1.6600856897128737\n"
          ],
          "name": "stdout"
        }
      ]
    },
    {
      "cell_type": "code",
      "metadata": {
        "id": "vjaZmZJ6jKCu"
      },
      "source": [
        "xg_tst_preds = ML_algorithm_predict(test_data, xg_reg)\r\n",
        "xg_tst_preds_kaggle = create_csv_to_kaggle(path+'0final_b_xg.csv', xg_tst_preds)"
      ],
      "execution_count": null,
      "outputs": []
    },
    {
      "cell_type": "markdown",
      "metadata": {
        "id": "NSgaviUFStHv"
      },
      "source": [
        "![image.png](data:image/png;base64,iVBORw0KGgoAAAANSUhEUgAAA7cAAADWCAYAAAAKJHVhAAAgAElEQVR4Ae29i2tc56Hu7T8hUM75XE73Dunubptd0jZ1yyZ8paXtKZQgutmhFHoZQquEHmO2YWMXNkpoTekx3rFTIpJ0GGJnq5ZjVz4dx47kyke2hGTrEnsi2eMolrAi2ZK/icdRIiWqZGsimefjXZdZl7lJ9mikkX4CMZe11nv5vc/7znre29p07fq4pqc/0ieffKKFhQX+YYAG0AAaQANoAA2gATSABtAAGkADa1YDxrsaD2u87HwmI/dvk/kSU4upRwNoAA2gATSABtAAGkADaAANoIFq0oDxsulb77veVpsYsUXA1SRg0ope0QAaQANoAA2gATSABtAAGjAaMF7WjN66f5sQBsJAA2gADaABNIAG0AAaQANoAA2ggWrUwNi16663FeaWufRMS0cDaAANoAE0gAbQABpAA2gADVSlBjC3CLcqhVuNPUmkmR5QNIAG0AAaQANoAA2gATSwchrA3GJuMbdoAA2gATSABtAAGkADaAANoIGq1wDmFhFXvYjp/Vq53i/YwhYNoAE0gAbQABpAA2igWjSAucXcYm7RABpAA2gADaABNIAG0AAaQANVrwHMLSKuehFXS08S6aTXEw2gATSABtAAGkADaAANrJwGMLeYW8wtGkADaAANoAE0gAbQABpAA2ig6jWAuUXEVS9ier9WrvcLtrBFA2gADaABNIAG0AAaqBYNYG4xt5hbNIAG0AAaQANoAA2gATSABtBA1WsAc4uIq17E1dKTRDrp9UQDaAANoAE0gAbQABpAAyunAcwt5hZziwbQABpAA2gADaABNIAG0AAaqHoNYG4RcdWLmN6vlev9gi1s0QAaQANoAA2gATSABqpFA5hbzC3mFg2gATSABtAAGkADaAANoAE0UPUaqKy5vT2nubk5zecTzrxzLEPPSLX0jJQznfNzc5q7Xd6yn7sxqOToVH695dNgge/mJ0eUfCeluQLHy8mBsMqrAXjCEw2gATSABtAAGkADG0cDlTW36QHFow1quzoT6hWY0mBzVNFTw5pZtwZiTpPj40p/NB/KexWIbX5G6fFxTf5tpdI6o+FTUUUvpMrIZkYjp6OKxpOavE9NpRMNijZ0aWxupfJPuPzooAE0gAbQABpAA2gADaCB+9VAZc3twrxSF44q2tCtcd8o3dxolxqiLRr8cD0XaEqJaFStw2FjXwV5/mhYrdGoEqmVSutKmNsFLWTmNTdfjjTPl31U+X4rLteXo1wJAx2hATSABtAAGkADaGA9aaDC5nZBC7fH1d0QVfxi2h6lcz8n0t700blJjVzqVscbrerqH1Zqxie6uZQG+wc05jfCH45poH9QKWtkbUpj/QMaTE1pciShjje6Nea/3hnFmxod0MA7KU1Njmigs1UdPYNKmZHJ25Ma6e9S66kuDYxMemky12VmNP5On7pOnbDOH/twLjjSmJlRajip7vYTau0c0PBN57iV5i61RKM6erpPA/1jmsozmjiXGrSOTc6MK9nZqhOXHEbZeFvV9eagxqZyR39nxgfVZ65p79bg2FTOFFr3eGtnn3Xcmxru52WnPcvCpNGw7W3T0WhULZ02s0LTc2dSw0r2dOiEYTec9tJQssw8czt3c9ji19GT1Mj7Pr5uGJNzSr3TrQ5f+Zjpx4Z5IN0LC3LL2E3v3IdjGnyzS61vdKj7nTFN+TpYTNnmLbuFBbnl4i+zufdHfHlNacY3nd49f/JvKTs+X1rXU+NBXnztUp76DB/4oAE0gAbQABpAA2igshqovLldWNDM1TY1RFs1PLWg9MV4cCR3alhtDVEdOtWtgf4B9bWb4yeUTDtg8o0iphKKmvA+MufYI6RHm+I60mbCSGo8j7lNXYgq2hTXCSuebrW+Zqawdqjjry3qNvF2nFBDtEFdo47Bup1SIh5Vw/EO9fUPaOBcixqih9Q15howMw22wTqeHBnXyKUOawq2df0Sze3McKui0aM6erxFXW8OqO/qpBZ88Q4MD2uwp1WHonElUq7BNaPhNqOONwc08GaHTpjOgwspx5j7jvcPa/gdO6/ecYdX/IRaOozxdlg0JZQyo55LNLdWmTacUMelEY2PJNVhWHWO2Qa3ZJk55jYeV4tT7t2nDinqz6cTRjzeKpNPt3za2tt0ot2X7viA0o7RsMrYmeo+fzOhePSQWi8Ma2xsWH0nGxTNnluk7IxerXJJKOWEOzVs9HtIrT0DGujvs/N6PJmN1z4/rnhzq09LVTpqj2kLdmDBAx5oAA2gATSABtAAGlizGlgVc7uwMGWtsWw42aIWv4FcmNd4b4OizYO+kc05jbRHFW0fWaJRss1aQ894cNQ1JELb3HpGaCE9YI1Odl93TeOUhv/qrQOdeqclaMIXFpTuP6pokxPG30bUEY2qb9zrnZh7f1zprLEuPS3ZNkXB6dlWvG4cTh6seN31yR8OWgy9dC9ofjyhE2bE2oxEW8ePasDtHDBhWHkNdgYEeE0mdcI/DTmfOQ3wdMqod9wT+t8mNZ52pmDnuz7QIeGY20A+nTDdfDphdIy4nQnO8Td8WrnR5+vkWJDf3Kb7Dyl60nfu7SmlUs4Id4myC5jb+XH1NUTV8vaUL6922btpyy3HeY2dXe9ryj3d00MJCzSABtAAGkADaAANoIHV0MAqmVvbYMWj9g2/N90zrURDVCf8xsFMCx3tUjTarXEzkljSKJU2kQa03/hY4HPC9abKLiw4mxOFDbNlEk84a4Xt0b/oa63qvjSssfSU5n1TVd0R5WJrbgMmyjKPTrwdSY2Pj3v/lzoUjdojiWbENBrty44qhkVkH+9Q0n/9eNIy4vYa2jy8wizCnwPG1q649mi8Gc1MangsHZzym+/6fOY2tKFUIG95wsgpw0CYwTK2R24bdKKjT4MjKU3+ze3EMOkvXnaBcrmZUEPULXO30ZrTWGdUUUcfgfMdVjlpzcMwXHZ8dvnyihbQABpAA2gADaABNIAGSmtg9cytM304aPbyGC1jAqwRuTaNmFHQPCZnIWBqCoQRMhM5ZiMn3KC5zbub75TZaKlBiZsOaGvd5oC1JvdIQ9SaTu1NHy6drlxT5KShucuaom2maXv/9rrd3GuChW4fb1FX4Fo7HHvdcp50hVmEP4dYuhXNrLk165dP/LlB0WiDTiScqdH5rg+UmZ3Po+46bCf8+evdikadXYrzhJFThoEwg+bWpNFac2vWBMfNlOeoDrWPeDMEipRdgHEoDjfvqTejip4esXb7Dpzv5CUnrQUYuuHxGtQxPOCBBtAAGkADaAANoAE0UEoDa8zc2ianoTc4pTgw/dcxOX03vMKdHzMju8FptkHT7J3rAskxGznmyW9ujVEKT5de0NyIGUH1PSImM++bCm1PvfYeb5THRIYMTn5T1OBNyXbP948Ip8xIYnAq84KZEjye1owZ6baOd2ik4GN88qQrzCL82U1H6HXetzPx1BWzftgpk5Jl5rB2p5474eYrd/+OzTllGDKe4eP+9M3f6LOmoWfDK1J2gXKx8tKgvnH/yG9aA01RueY8cL6Tl3BaXB3ymls3YQITNIAG0AAaQANoAA2ggXvRwBozt/YU5IZoXH1jU5q/Pa+Z9KC1wZS3xtE2EtF4n0YmZzSVSqrDGilcWXNr1qlaz+h9O6252/OamxpTn9k0yZ2q7Kx9bbsyZRvcv6U00BxVw1lnU6UFxwD1jGlqzm+MPOHmM0V2vHF1md2H5xc0/7e0Bk/7DW9aAyYdpweVnpnT3IxzPLtZkn08fnZYaTMVd35O6bfNhkiu4V2CuZ0bU5d5jNHltGbypt1+TnHD6WFNGYObmVPqolmj7Br/UmXmdGo0nFDXyKTm5uY0NZ5Qi39X7TwGO8cwFjS3zlrueELjlsmf18xV8/ipuJLvu+uSG1So7ILlYqYgm82o+qxdq+dvzzg8vQ6G4Pl2+eakNdQxcC+Vl2u8ugMLWKABNIAG0AAaQANoAA2sOXO7sDCvyXc6ZE3rNWtyza60l3yPlVlY0Hw6ae9ubKaWNg8oNZa7W3K5R25NZZm7nlCL2VXZSleDTpwb0ZRvFHVqtNvaqdg+bnZ8Tirte9zMzJh73DV9QQHmM0W58TrhWo89cq7/27gSzfZUWxN3w/FujU35wg4dN+uCk+5jivJND88xkvNKXza7NJsdpn2bcPkN2tSYuo+b6cgOHxNH2jPxxcvMNretV1IaaXfzYfj6HpmUk6bcacfB6emh47fTSlo7MDvpazih7lFvU6hiZZdTLrcnNdhxRA3+vGZ55u6ubMoQc+vTo183vPc2JoMFLNAAGkADaAANoAE0cF8aWEVzW+pmd94awfOex1rq/Modn5+bC20WFYzbHDejrOXuPSoZ7u05zeUdWXXSUup4OSpTOeIwYawAP6s85oszKsnYz6hEWOUuf8Irf52CKUzRABpAA2gADaABNLB+NLCGze36gUyFoSzRABpAA2gADaABNIAG0AAaQAMrqwHMrX8kjvdlH22mAq9sBYYvfNEAGkADaAANoAE0gAbQgK0BzC2GFkOLBtAAGkADaAANoAE0gAbQABqoeg1gbhFx1YuYnip6K9EAGkADaAANoAE0gAbQABrA3GJuMbdoAA2gATSABtAAGkADaAANoIGq1wDmFhFXvYjppaOXDg2gATSABtAAGkADaAANoAHMLeYWc4sG0AAaQANoAA2gATSABtAAGqh6DWBuEXHVi5heOnrp0AAaQANoAA2gATSABtAAGsDcYm4xt2gADaABNIAG0AAaQANoAA2ggarXAOYWEVe9iOmlo5cODaABNIAG0AAaQANoAA2gAcwt5hZziwbQABpAA2gADaABNIAG0AAaqHoNYG4RcdWLmF46eunQABpAA2gADaABNIAG0AAawNxibjG3aAANoAE0gAbQABpAA2gADaCBqtcA5hYRV72I6aWjlw4NoAE0gAbQABpAA2gADaABzC3mFnOLBtAAGkADaAANoAE0gAbQABqoeg1gbhFx1YuYXjp66dAAGkADaAANoAE0gAbQABrA3GJuMbdoAA2gATSABtAAGkADaAANoIGq10DA3H7w4YfiHwZoAA2gATSABtAAGkADaAANoAE0UG0a+P9S78n92+S+4RUCEIAABCAAAQhAAAIQgAAEIFBNBAIjt9WUcNIKAQhAAAIQgAAEIAABCEAAAhBwCWBuXRK8QgACEIAABCAAAQhAAAIQgEDVEsDcVm3RkXAIQAACEIAABCAAAQhAAAIQcAlgbl0SvEIAAhCAAAQgAAEIQAACEIBA1RLA3FZt0ZFwCEAAAhCAAAQgAAEIQAACEHAJYG5dErxCAAIQgAAEIAABCEAAAhCAQNUSwNxWbdGRcAhAAAIQgAAEIAABCEAAAhBwCWBuXRK8QgACEIAABCAAAQhAAAIQgEDVEsDcVm3RkXAIQAACEIAABCAAAQhAAAIQcAlgbl0SvEIAAhCAAAQgAAEIQAACEIBA1RLA3FZt0ZFwCEAAAhCAAAQgAAEIQAACEHAJYG5dErxCAAIQgAAEIAABCEAAAhCAQNUSwNxWbdGRcAhAAAIQgAAEIAABCEAAAhBwCWBuXRK8QgACEIAABCAAAQhAAAIQgEDVEsDcVm3RkXAIQAACEIAABCAAAQhAAAIQcAlgbl0SvEIAAhCAAAQgAAEIQAACEIBA1RLA3FZt0ZFwCEAAAhCAAAQgAAEIQAACEHAJYG5dErxCAAIQgAAEIAABCEAAAhCAQNUSwNxWbdGRcAhAAAIQgAAEIAABCEAAAhBwCWBuXRK8QgACEIAABCAAAQhAAAIQgEDVEsDcVm3RkXAIQAACEIAABCAAAQhAAAIQcAlgbl0SvEIAAhCAAAQgAAEIQAACEIBA1RLA3FZt0ZFwCEAAAhCAAAQgAAEIQAACEHAJYG5dErxCAAIQgAAEIAABCEAAAhCAQNUSwNxWbdGRcAhAAAIQgAAEIAABCEAAAhBwCWBuXRK8QgACEIAABCAAAQhAAAIQgEDVEsDcVm3RkXAIQAACEIAABCAAAQhAAAIQcAlU3NwuZjLKfOJG739dVCaT0eJd/3e8hwAEIHAPBO4uam46rdQHMwXam+JhWu3UYvFzlnc0o/TwoMY/LmugBZNQuJ0teAkHIHBPBCytZcK6tn/Pc76+6/zOl4rpk2mNvT2k9J1SJxY/nrk5pMHrMwqnrvhVHL1vAk45m3u64P9aLonKttEuYzTqkuB1RQksZjTzQUrp6TnltMsrGvHqBF5hczunkdMxxV4fUDpscGdH1BaLaeDW6oAgVghAYH0QmLnep+bGmGIx9/+w2t6eXMYNbloDsZjaRubKB2RuTO2xmI6/Pe2EmdF0KqXJ2eDNXmY6pdT7c8tIa74kOu1sfzrfQb6DQBkJLCr1Zkyxk0Oa8Yf6QVLxWEyNIQ3ODDUrFutTKih7/5X2+/cH1BhrVPdExv68OKfJVErTRczu4uykUqlpOVdImtNYh7nfGJRb63Ij4psVIXBrwNf+uu2weR3QWmmVctranDa6/GTQaPmZEmIpAouafLtNh7P3QzHFGpvVdz3QYpcKpOqOr465jcUUT6SDN3CY26oTDwmGwJoj8EFSx2ONah9yb3IXNTdxwfoue6NcMtErYG5NnJ9kfG1e/jjS/THFTo/o/mw15rZkEXNC2QhkrncrFmvTyKwXpG1iw6bXMZvnxn0G1Lsm/G7RP7ywhPuDuZG2XPNkRhBLGelwxHy+fwKWuW3T0Idrd+Q2b1sbaKPvH0M4BDQaJsLnlSZg2ufG2HFdmHDuKu5mNDnUbn03+OFKx7564a+OuX39uHWz2XfD96uT78drLq2Rt/vUdbJLfZeGlPLd8WVuDSl5aVzTd9IaerNLbeeSGps24ZmpJc41w+mcH9G51JAunGtT27kLGppgutLqSY+YIVB+AnlvHkybMJRU0umpdNsOf7/lzPWkktn2wjWeM5qZSKr7dJu6E/fb/sxo/FJSQ7cyUiatoUvdajWdfB0XrHZsxmq3kur+a0yxv7TrwqWkxj/2+JRqt8zxvs5mdb1ppnLO2DNkQqNmXmi8g0AZCTi/3d7vud25Ej/dpma/6V1Mqc8/I+LunNIjg45ukxoK/MCbOuLUgY/HlTzfbo0Et57z11MvD6b+XuiIKxZrVbdbzyQF6rVV75Ian3buEU53K3lt2upwMlNDvfrjhWveZT4c0+CbXWru7NPgyGTOPUXwbD5ZBBxz6+/w8JNZnBnXoClf35D6XGpQyctjsm7jzMkZMzXduZd7e0ST4VH7u3NKDV9Q92m73Rv/2BuzL97Gm/LP19b62mg3sUXikNzzZzR9zdVx4an0aNSFymslCeTtxNG0dz/iJiZb39rUfWlEaZ/fsk4pdtxtWz+cU+rtbrWdHNSkE26pexc3+nK/ro657U9rZqhVscZujbsNVtjcOiMwzV1JjUyMabDzuGKN7Rpzeoftm9jjOn66SxcuXVBXc6N1vKujWV2JpJJv2sPwxy+7iBeV7jdhNKvr0ohGhvvUdiSm4/2hEeRyEyY8CECgYgQWUxes6YztQ5PKFFi/n88AB38AbHMbf71ZrV3GfHrty4jjiJff/riGeW6Z5rZ0uzUz3KbG2GG1vZlU8lKf2v7arvaTMcUwtxXT3caOaEZDJ31TkDPj6o41auDWpJJ/ian7umM6rKnGzRqyOm0mlXw9psbmLiVHxjX2dpc942LUuaPy3w/ch7kN1GsnzOOvt1n3CBe6mu22orNdzZ2mntv3BLHXk9kbs5kRM8Jh6taQRkaS1n1GY8dIcAr2xi78/LkvYW7NIMT4uUZvlsqdcXU3NqrdLf+ZEbU3xnT4dJ+GRkaUNGXV2C63/dUnaQ04+jEdgXZZHtfALXvApHgbX8jc+tpok6tQHMneVksL3gyg8O+Eo5+/DCjtG7dxARUyt2jUJcTrShCYGW5VzBm5zSNLO0pffUteSqrv9GHLT2XrW+j4BcuPNWvwAyfFTtsa/0uzWs9dUDIxJtNtuJqea9XMren1MutvGzvG7Cl4/h8zSblrE9K6EItlGz+78erSmGuO74ypKxZT85A3HpNO+Kb4fTyk1lhcSbcwTJlY64KC06lWQlyECQEIVIrAoqaHu5z1JYd13IzOjKQ15zO6xW98TDrtm5ZY55hvlMa+UXfXEC67/XHC9Nbxhm6kHDyBGx3zXal2yxkNa/W1e5qx9y/A3FZKc8QzeTmu2F8cU3jLrJe119Wm+xsVezNljY5aU5Xdc/KsobV+rwvcDyh0f5CPeMl67YTRdc0d4ctorDM0dfrmBW+K9WJKFxpj8s6XZN1nGOOeLwV8lyVgmdtGNTU3q/mk7/9td7BB0uyY2hsb1Xcjo3R/3DK69t3bolLnGxVsf+2ycttf64a9sU+p7N4ti0r1N6v5TXvKe0ktmFY+ZwlIsE3OjUOavOTTudOmNzr6tvI+PajmInvHlEwXGs1KiDflIpBRKmE68sxa2yZrBoqZteq2gpJT3/7q3zdhRiOdzWp9x9TXfMedttO9R3J0G7gPKXXvUq7sFQhnFc2tmTNkbsIa1W66B/L9eC1mNH0rpdS1oexIrHtzmNtIBBsmk19/4zU32q5YrEuDqZRS2f9ByxDzQ1VAHXwNgWolYNqO1IgG32xXk9lc6kiXxgKjrsGNTfxthWtu3bbGRTB5sVGx/2uP2iy3/ckNM7e9MvEE0yGVbLcCo2FuSmc08n8ZuXVp8FoBApahtTuKLaPrrKtdvNHnmF57va1rTuwULSpjdjRPjWnIHTV115uH7wfCn/NkKbdOhupTnjDC9U3+EUenbl0Y9d8zjOjCiTJvNpcnL1X/lcUxrvbzZjaJ7z+0ic3M1TbFjhzW4VirM6Jvcj6pgcaYmhNjvnu1lEbOH3dGep2124nCW1OV1EKetjbYRjtx+I2rSZo1IOLOPsjThufRmL8sS6Yrz/Vo1E+Q9/dM4JMZTV4zyzJbrc7/xmZ3Y1+7vrVd9QYGg3E49dHfgW5WDVh7LTibA+bRbcl7l2AkZf+0uubW8rft9nSTm8HdkhdvDVg7nh5+3ay3TWromm1E3RvO3EYit6HxNwr2+fZ6nEBj667rKTtaAoQABNYEgU/SuvCXmBrP2yNIuW1H6CbY6ZHPTqd0MuEfecoNo3j7E7xxMgHmnm99GxpNKNlu+W/Gs7DZUCqLgjeVIeDMIOi+nramKLu/07KmKDdr6AN7vW12Xa6Z8mmWEh05ri4znX54TINdvplW4Zul8Oc8ucqtk6F6nScM/z2CFaS/PhUyaL41vXmSwVeGgJ9jESLmPs/sqh0LTOW120Z7PwKfMTYm2doXoXT7VlILSzC31pM9wks7nAGZgfdNpvK04Xk05s9+yXTluR6N+gnyviwEnNldrcPG0ObRcSCSAsetWS7tGjMrSfLotuS9SyCO8n9YdXNrTU/uaFTjkcPWsLk9iuo0XoGeOXtasvujmdtI5BZAoFGwepZ905jLz5IQIQCBVSWwaE2/aT7nLHXIpsWZQuNMebTbjgu+R1IsarzHd2PtNPbxS74pdHLCcEaklt3+5PyA5LZXJrmBNst8Uardcn5UsqbBXONMp2RaclYAvFlxAmYNZUyN57rVFXNHtkyk9m95W4dZu9qtcWcuXG4dlALLiMI3S+HPefKTWydD9SlPGPnqW3bnZ+v80FImE69viUOeZPCVIbAkc2uvuz7eP2itnz1+0X1cm62ZYPsb5G5Ndw9MozT7T3mPUcvVV7iND2nDKrVgm5w3jmtdimV1HDzfCiKPxvyCQKN+GrxfeQLTGmpvVnN27yE3RmeZ1UVzj2PXN7fz3z5jUXPvp5SaNg12vuOhKfr5dF/q3sVNygq9rgFz6669sJ+FZptb+4cydnpIM2YFdHbram86UG4jkdvQBH+4nIa0x+y6tygtutthY3hXSFsEC4GKE7C3vW9U68VxTc+Zx1DMKP22WYPb6G1s4zyD8/j5MU3P2cetqcvulEjHiDYeaVPy1pwymTlNjnTbjxNyNsdZfvsTbp/sH5f4m+Oa8T2rxF672KfxmYwWrZvoUu2W/cMTe/2CdY3J7/h5s/kK05IrLr4NHqFdJ0JrWM3sLOvZtv7OI3dKW5uGPra3OMl8MGRtIJR9DFb4ZskaAY6p7Z1Jzfnqix+5+0iiwQ/mso//CdwDhMMs0JmUNbfOpkeNpwaUMjcidxc1Yz1WLI/h9SeE9465bVZwSreZ3u0+os3owmwqaq+bXXx/QMdjx7N7oljteGOrBlIzVjtodle+8HpMWcObfeSb0UNGc45+shuIlmzjpdy2NtRG++LIfLKojJMGb41t6HxT7nk05pcDGvXT4H0lCExePm5tKNU9nNZMJqPM3LTGrDW4ofpmbTo1o0wm47Rz3j2TfV9lHic0o8VPFrP1LbvGNq/uS927rGzu14a5deZvmwXP2fWvM2Pq+j+NzoPAD6vr6lDgMQLLv7k0m0GkNPDXw97DxY+0afB9b1n1yqImdAhAYOUJLGp6pE+tR+zOspi1iUKz+kbsR37Y8fsfan5YrZfSGg9MB7ZvWgYmnKmT1sPPD6vtbXdkQVp++5N7IzQ30WctvfBGAszN0bj6zHTNmG+X2VLtVuD4YXWNpnkU0MoLjRjCBD4esjbTiYdHCRyj4d/s0czYGutqsjc5icV0uHNEQ2/6DHDOzdKiJt+xn4CQ3bgqHP/ipAbNLp/mEVtOGu7P3Jodc6c15EunedpC37VCa9PCCdrAn62RW18bbLWh5rOz14Ezvddb+rGo1JuNimVHY+2NAa1OR+vaRjX3jmnGN2qeuTHga+fN8XHfLtal2vh8bW1uG50bhz8NueeXMrdCoxu4UqxW1jNKX3L2HnHroem4v+n3PuH6FrzfMZtKmY06vfpoH8+GkNNeO3kN3JuYvU8q57kqbG6XX7iLpqeh4P7Vyw/PuuITM6JT7kDvMS1cBgEIrAgBq+0oQz034dijqCuSzKjL/nUAACAASURBVKUHWqLdWpG2cump40wILJ9ACU0vP8AVumKRe4YVIlsi2EVrJKlY+1uJdm/N/AYUo4VGi9HhmOy6VNz7lKpvzvHl0lyFdn7Nm9vlMuR8CEAAAhCAAAQgAAEIQAACENh4BDC3G6/MyTEEIAABCEAAAhCAAAQgAIF1RwBzu+6KlAxBAAIQgAAEIAABCEAAAhDYeAQwtxuvzMkxBCAAAQhAAAIQgAAEIACBdUcAc7vuipQMQQACEIAABCAAAQhAAAIQ2HgEMLcbr8zJMQQgAAEIQAACEIAABCAAgXVHAHO77oqUDEEAAhCAAAQgAAEIQAACENh4BDC3G6/MyTEEIAABCEAAAhCAAAQgAIF1R2DVzG1mNq3R4QlN3cnPdCrZpmPxY2pJTkma1ehbo5rNf+ryv70zq9kC8QYCyyzxvMBFfIAABKqKwOyEet44pmPxHk0sVlXKK5PYxYxmZzOViYtYqppAZmpCQ6NprUu5UA/uQZum7ZhVsPWwvzPf+/+D59xDVGvpErSylkpjfaVlidoq2RZnZpUeHdLEVJGad2dKE8OjShds0DOavTWqoRtTyhS6d7LCKBHPCpTQKpjbtBKxnap5eqfqnq3T1kit6s+lA1mbfSuqyI6o2t5KaOi9jHS9RTtrdqrleuC0e/4wdKRGNUeGSl4/1bV7SeeVDIgTIACBNUpgQi07Itp1tEfJt0ZlutL4CxEYblLNnk7YhLDw0UfgzqiO/S6iyLY61T27U7WROjUNF7lp8l1aNW+pB8sqqsyNTh2oi6imZrc6J32Xvtemupoa1QT+Q+f4Tq/Kt2ilKottrSd69p1j2v20qTtNKuhgltAWp8/Vqzay1fJgddsiqt3TotHAgF9GE6e9c3Y+XaOdsYQCTu1Wj+qfrlHtjjrV1W1VJLJLx0b9bX5Go2/sDsbzQpsmAvGsHPGKm1vLMO5pU9p1+bc6tTeyS23veZlcaVOJufVY8w4CG5vAkJrCN18bG0hu7rlRy2XCNz4CGQ0d2a7th5LZ2VWZ4SbtjBxQskI3Mr7ErNxb6sGS2aY7dqv26d1qOdei3eH2dSNw3Ah5XLIaOPH+CcwqeaROtXUH1HP6YBFzu4S2+L027YrsVectN1UZDR3aru3HR90vZNrv7TuaNOS234tpte2pUX2vO392VMd2RLS3w7O7OW3+6DFt335QSfcSzSrxakS7TnvXZCNcgTcVNrdptT0b0cGk391Lo3EX7KyGTh/Twee3q+a3UWtacsKY3tkhtcXbNGRBSith3n9szj2g+mfrdeB0UlOuWXYgzV7vUcuhqHbvierg6YTSbiFJWq65zdzo0bE/7tbuPx5UmzVNulRJzGro1DF1+nsxJpNqiXdq1C1oayqkm/4hzX5s8hjqGQlFY+Xp1XrVvXBALb0T2RsJ67TZtBIWj92KHjJ87Isz13t07NRQ8FxNKBFv0ZKyEkoDHyGw5glMJdUWd+rWG50adepCTrrfS+hYPKpdNdu190/HdOy0V08K1rXMhHpMPfY1Yenzx3Ssa9SbepcZVac5x9fm+OOefS+hNlOPrbbJi9M9xyzJOFikvSmYNieAYtebtLYNz2r2nTYdeKFO9a+25bYDU0PqjNtt57HeCeuHLjByuziloa5jiu4x17eo54YPhpsJ32uxttg6zZSX01Zb8Zly8ZWFOadYnnxR8XY1CGSSOlAT7KA2S4l6XqhR9Lz7g5ebsNWrB0u7h1CZ60EugfX7zcRbPfYAxmRnjrm9l8ELtLJ+tULOlkJgSsnzztJM03FSaOR2KW1xnt9XBTpjMkq+WqMDF4O/65nJUSVHp+z7HGv2xcHQ6LF9ndvmz56P5sz4upe6vxQ6+c6prLmdTShas1c94bl/7xx0IGQ0dTWpnkN1qnmxRclkUhPmxjTQQJqRljrtfaFeTb1JJZM9ajLTof6YyBo4A9UMkTf1Dml0dEidf9qpyPM92Wl1yzK3e/aqfk+TepJJJd9qU9T0VnSV7nnIvHNQ23cck90XYgo9ol2nnOvuDKnJnQqZTCpxOqrdz+9VXSHBmpu73nqrJ/SYleeEWl6oVe2fks4Ntd2LYqZWjt5Ka+h0VDvdXheLeb16fDf4meRBRX7bFpxikE8dfAeBaiMwesxawhA9ndDo6KgSb+xVZEdTwIxms/TxhJLJFtXX1OnguaSSV+2G26pr1rIIu305tsdf16bUuSeipmE3FNNhV6OaiG+a0HCTIs8WqF8mfVbbNKr0rSG1xXZq55Ehpx5nNBqvU+3vvPbmQF2tdvt6Oou3A6HrnbZx51HPeJu2r+75etWbadjJpHqO7lIkElXCbR+smTQ7ZfjZx3er/vndvh+pWSX+GNHOWJuSN9KaeKtJu5729wK7XOzXUm2xSsZXOk/BGPlUcQKmhz7S5PzWebGb0buCy39WtR6Uvocorcvl1QOPygZ7F7h3s/M+eny76t5IKnna7HNwTG1vpbP3bnnpoJW8WPhygxIoZm7vpS2Wf4DRMB1VU2SveiZnlX7L3vvomBkg9PdTmnhy/IptbiNHnRFgU/cjB5TIXpdW5/O1RTs8y1milTW3VkPnuwl0c2IKy3czmOPuAw2k+WGqUfQtX6+CdTzqQbyT1sQt33GrN8Mz1csyt+GpVdaQ/kGFBp/dnPhePUObudqknT4zmT69S5FXXWNqX5I+tatwb4xGdWz7dh3zZg1I/tEhK//+XpSMZifdTRwySv4pot1dbo+C/blSUwN8QHgLgZUnkJnVxHvZ1lSSPVuk6WqhqMPTkk1dC49CBb+z6q+7Zt/UvT1Natrj1U/r5s3tyApFa7Vth3yrZTKzmvrYaas+7lF9uL2xvnPbm6W0A8GOLN1J6oBv2YfV9sUS3iizjFl3R9ictiGQdrsd80ZuHV7ZKU3S7FS6yGYSxdriJcRntW3F8xRCzMdKEwj0+nuRW1oP/c65R1e3HpS6h1iCLrXMeuBmfKO9WvU3uJ526OhW1dbV6+DpHiV7W1RfF1Hk+c6Cne1oZaOJhvwWJVDM3N5DW2xPJ/Z1cDsDYgf/VKe6F1vUk+xRy4t11iBBdpqy40kOenOOZXcIBvczmk0e067t9trenU9v1d6TXkd70TyW4eDaMbf/22vcrMbMvXk0mQw0kPYPkzdyYk5wfmj8mxZYO4Ellext07FD9drpW/exLHPrGxG2eee5wSxUEB8nFH26TnU7dvqMqd274Q7dZy+1hvnzGH9zgjm23R0Fzl7he2NGbmtUu6dJnW/l7mxmjdS6G8JkkjoYCd0s+kLiLQSqnsBiRlM3hpR8q1Mt8QPaFanxjbSGcxdqO0xd+18H1GZmamT/e3TwWd80HV99NCOTdafSMobXvNpm2jO64dhkjSzXaveRTiVCu8pmLh5QzZ5jSmTjNWmwR5atPQl88eaEK8m63jdDxT7HjDC55jX/kgzTHtqdX6YjIDftdrrcDaXsEatIXb1aepe4A2LBtrh0fEvJUz4WfFdBAsVuqPwdOf4krWo9KHUPUVqXZtq1mcGwrHrgz/9GeR+4dyuUaXvmWXi5WvZstJJFwRsIWFOIc0ZNHS7LbYudmVOBzf+sOlujnb41uFL+dbl1kVrt+uNBHXt1r7Zuq1fTId9sHWvDKTMLLKmJqSlNJM3M11rV97oDbStblpU1t9YIarAXz2QvfANzv+bW3Qls76tmHV2PkqOdOniv5jbnxzmtzv9d7GbZX2Bpa1SkZvtBb2G2ptTzvO9G2T39llmbUsDcXm1SxGf+3UsCr4tTGu211+qZnc1qX+jx9YQOqckZvbGM7gs9xacBBQLmAwSqh4Dphcw2uG90KjGcVEvR+hoyt6aubd+rg3F7ypyZNuf+m7Wq9p/p4KpT23vmBtcxg8Z4mo4w88NQtCPKrDEYtTaFiO7Zqdoab7f4qXN7s3sNuHG6r9beAyXaAev6nPZKGjrkmtdS5tZMRzL5CpV3dtmI+/2s0slOtZh1w9vMDb5v4wn3FOe1eFtcOr6l5CkUJR8rTcBoP89vV/pUnbJT1PKladXqQSlzW1qXdnaWXg/yZX9DfLckc2u3S/4NbXLYoJUcJHyxQQkUG7ldTls8a5ZH7tTBi+59jcvTtI9LuQ8w5m1Ko6YzfnhCs4uSmbW295wxr/bsl7qTE26g9uuNFtXlWcISPKk8nyprbp0pcN6OWyYTNgR/w3Z/5jbPyGrIVC9r5NY3XdpCHpriXKwYzI1Z7fOdShzfqe2H3HV1tgC2x/1zjKXZ3vrC05KtaQIHcqZCZ3KeH+ekZnFCLc96ozXmW7Np167TE9ZC8ZxR42KZ4BgEqoaAPUoZbF/MKEyxzqiQuZ3q0d6a3LoWRmAa8d2n2nQgu9bWtDsH1NkVVcQ/6yR8Yfjz9RbV1ThLKox5Dbc3/vNLtQPW7oThGR4m/xG507LztX3eyK3d8RZuH4xJ8aYl+xNk3s8qEasJ7LTonVGqLc5XXnZblY1vCXny4uPd6hAwnafhEf+02n4b/A0qmraK1oNS5rbc9aBoztf3wRxzO6XkyWOyOuuyObdns3lLp7IH8r9BK/m58O3GIFDM3JpZrEtpi519f/LvH2QvVQpvKGX5MneZibXJb3BjTWvW2m9dU5w/DHsWrm8J6QqWWIXNrT1KG9lxUAlnZHr2HfPIALN42cvl/Zlbe8OXA2+5vREZTZzaq8i9jtya5/Bmt7ue1dCRnYHNq7xUh96ZKcnuWrfMqNVD0nTVWVs32aO9kZ062DuhqdlZTY22qb5up2+Bdkajpw/q2EV34yp73ZvZeMbN1WzyoLa7I0TDTap1N5AyyZhN6uB2/6Y3xt0e0/YdO7Uz4q7fC6WXjxBYBwSGjkS0y9dbOHvxoHbWLMPcms62VyPWJk9uXbPWkphNk3xtlJkaFIlEAmvnh47UWt8VnF5n7dRe69tAylTVg9ZmPPYqXGMIgtvrW+3jtiYNWbvB56Yt0A6Y9cWh69MdZkMtz/AWN7eStQGUaUvczN/qVP3TEc/cmptV/2MEnEcE5L8xLd0WW/sRRPaqZTit2VmzgcVB7d6x04tvCXlaB7Kt+iyYPSMiz7dpwtGNrbsCG7mtej0oZW7LXQ+qvnjvPQM55tZ+VIm1xta5HZpN5t4D+iM07aq36V6l20y04i8L3q8BAiFzmxlt08F4MjtTs2RbvGg2dooENqoM58q+D/B8WuY988hW/5NubPO6+6T71JZZy2fV+pZxmqVaNb89ln1yixanlDCb+/rOCcdbzs8VN7dmpHb0jb3aGnEe4m2eheZ/roaZtdflm7dtchtoIEs3NpnRFutBx5FtO7XVmNNz9zEt+UhCQ0frFHl6q5Xm3Icd5ysOez2Of866vXuyb/rerYSaXjAPvK/T7lc7NXHDPy3Z7vWOxLwdoHVnQm0vblWkpla1T9cosq1ebdlHcDgPS66p1U7zMOWaWu1+I7xw2wkzu8NyvnTzHQSqnMCthA7URVTz9E7tfDqiuqOdatmzHHMrmbrW+UqdVY+2bjNh7dKB825Hk8vH9JAGR6as5RWlRn3vjKplT62VPjOltybc/n08JLM7c01kq7Za9XxvsH0s2g5Iyl5fq9pIjWp/26SkuxNygcegeSO3Jm9uWxLR1m219pTjt5p8ZlNKnz+gukhEW+vMtOqI6l4p/AizUm2xiXH2apv1WCHTFtbHh2QMfXbk1pxQIk9uifC6mgTSSry6S7U19u96pO6AEr5Nx3JStqr1oPQ9RLnrQU7+N8oXgXs3J9OLafVY7aujlW2hNi7MBq2EifB5IxMImVvLRJonHrgd0ireFlv+ymmnawKv/mWRGU10md95x6dF6nSga8K3EaXvd9kKI6Ktz7WEHn84G/R6NfnOWbmCXAVz62Ymo9lZ347G7tdlfLWm7YaefxsM3v6RCxawXZjBDavMPd+sZgPPrVzGtcFI838yc+WXMhfdpKMQt0XD1N0lOX80fAuBjUDA1P1C1WTJ+S9W15YcSIET7xSpx+aSUsdLpc1cH2ivCqSj0NdWW1KsfXbamqLtqxd46bbYd67ZWCtnYyyHyf3kyYuCdytFwOhmOWVUSueljldZPVgp7FUZbsk2JpSrUloodRythIDycV0TWG5bXABGptSNlKl3xW4VLPs0W/iJCgXivd+vV9Hc3m/Sq/f6zOgx1Zmp2ZOOIu5MqOeP2xVhVLV6C5WUQwACyyZg9hqofb5No87ocsaM0v62RjyqbNkouQACEIAABCAAAUmY21WSQbr3gHaZaYlmSP/pnao/klB6iaMgq5RkooUABCBQZgJm6lK9zA7vpi2MbNul6OnR7N4CZY6M4CAAAQhAAAIQWOcEMLfrvIDJHgQgAAEIQAACEIAABCAAgY1AAHO7EUqZPEIAAhCAAAQgAAEIQAACEFjnBDC367yAyR4EIAABCEAAAhCAAAQgAIGNQABzuxFKmTxCAAIQgAAEIAABCEAAAhBY5wQwt+u8gMkeBCAAAQhAAAIQgAAEIACBjUAAc7sRSpk8QgACEIAABCAAAQhAAAIQWOcEMLfrvIDJHgQgAAEIQAACEIAABCAAgY1AAHO7EUqZPEIAAhCAAAQgAAEIQAACEFjnBDC367yAyR4EIAABCEAAAhCAAAQgAIGNQABzuxFKmTxCAAIQgAAEIAABCEAAAhBY5wQwt+u8gMkeBCAAAQhAAAIQgAAEIACBjUAAc7sRSpk8QgACEIAABCAAAQhAAAIQWOcEKmput/7lG+IfBmgADaABNIAG0AAaQANoAA2ggY2ngZX21phbDDcdDmgADaABNIAG0AAaQANoAA2ggRXXAOYWka24yOg123i9ZpQ5ZY4G0AAaQANoAA2gATRQaQ1gbjG3mFs0gAbQABpAA2gADaABNIAG0EDVawBzi4irXsSV7hEiPnoh0QAaQANoAA2gATSABtDA2tMA5hZzi7lFA2gADaABNIAG0AAaQANoAA1UvQYwt4i46kVMr9na6zWjTCgTNIAG0AAaQANoAA2ggUprAHOLucXcogE0gAbQABpAA2gADaABNIAGql4DmFtEXPUirnSPEPHRC4kG0AAaQANoAA2gATSABtaeBjC3mFvMLRpAA2gADaABNIAG0AAaQANooOo1gLm1RPx1PfWnr+gnz39ZTx76+hop1K/rqUNb9Kuja69HhF4qygQNoAE0gAbQABpAA2gADaCBtaaBDW9uf/XyP+qf/+cDenCL9//wzz+nnzSuslj/64v65y0P6Pv1S03HFkWe/5J+9l9rxZwvNd2ct9YaBdKDJtEAGkADaAANoAE0gAaqUQMb29y+8gV9Y8sD+uqvvqif/cmYwq/rqdjD+t4Tn9KDP/wH/ezPqyjqZZvbR/T9LQ/on3/36BoZeV5FdkwpQQNoAA2gATSABtAAGkADaGDDaWADm9st+tdfPKAHf/wFPRkWvmN6v7VniyeIQ1/Rv/7HQ/rmjz6jb/36i/rJn3zm7dAjqvn15/Sj2Bb95DcP6Zs/f1A/2P0V/eov39BTL3xB3/nFp/XNbV/wjQZ/VT/69edUU/+ofvm8d/zH/jDzmdtsGv5e3/mPL+pn7uiyFf+DllF/5MnP6ge//icvT0cf1Y9/81l96+ef0be2f0E/OsDIbjX2QpFmX30L11c+e+0ULGCBBtAAGkADaAANbGANbFxz++cv6TtFRjp/dWiLnnJHbg98UY99+wE9/POH9INff07f+8VmPfjtT+vxl50bbseIfvWHn9E3t39O36v9tD6/5VN67Bd/p6/9wpjNh+ypzz/8nH5mic0eZf3azz+jrzlhfufn/00Pfvvv9C8HgmFmpyX70lDzuy/qByYO9/xC5vbwI/r+Dx/Q55/4e/3gd19UzbbP6OEtm/X9egwuZhGziAbQABpAA2gADaABNIAG1pcGNq65zTcymreX4+v68b99KjTC64z6/uJhPWWuccL65m53pNc5/iPfqPALn9WDWz6jf/kvIyDb3D748y/ql9k4v6qaHz+gz//bl6wRXzdM29w6aXDjs66x4/j8vz/i9E7lTkt+8jf/Qw8+7hpqW7g/+/X/o2C860vQNFCUJxpAA2gADaABNIAG0AAa2JgawNyW3LDpy/r+tx/Q1579amCKw1N7HtSDWx7Sj83obh6j/JN/fyBoIuv/IcfchtfHPvnspz0zGgjTScP2h/Xj57+U/f+Xf9vsiyNsbh/Vvz75gB6s/cfs+da1//H3enDLP+gnWVO9MYVPg0e5owE0gAbQABpAA2gADaCB9aWBjWtu//KIvrcl17S6AvemJYdNoyMAayT27/SvZp1swIjax+/J3O76jGc8A2HaabDX037Omhptpkdb/795xB49dkaDPcP8qP7l52ZN8YPB863rfGtyMbmBTgu3/HldXw0d5Ul5ogE0gAbQABpAA2hg/WtgA5tbZ6rv45/VTw6HCvrlz+mrWz6l7z1v1qbaJjE7Xdgxg9b0XnfKb8CI2mEtxdx6U4rNNV/Xj7c9oAeffNieqhwI007DI7/+ctCIBZ6Bm2vCf/Lvn9KDganM39DWwDWhfGN0g3zhAQ80gAbQABpAA2gADaABNFA1GtjA5taMuD5sbRT1+SceUs3zX9Ev//QV/fh3n9U3vv2APv/kF7M7DpspyJ/fslnf+8+v6leHv65fvvwF67pvuFOVA0Z0Geb225+2wnzq0BY9+Z+ftQx1dofmUJhWGr79P/T957+qXx39hn514J/0vR8+IM/wflk/ePwBPbLtn/TkIWfDKMukb9a3fvdla3OsXzV+WTVP5jG8VNiqqbD0ONIhgwbQABpAA2gADaABNIAG8mtgY5tbY+oaH9EPIv9dn9/ygB40/9/+73rs11/SLwMjnF9X5Dd/ry992zlny3/TP//Hl53pwPcxLfnZf9LjZpdkK247TPP4IEusIXNrRnaDafiUvrb1YT3pS+cv//Mhfc1K44P60SE7nKf2/oO+8T/ddJsdn/9RP3OOUSnyVwq4wAUNoAE0gAbQABpAA2gADVSfBjC3rpk8+nU95Y54ut/lvJpztti7GeccW07hB6cQm/W9ZjR2aRXIScOSz7fD9dYQLzUezltaecAJTmgADaABNIAG0AAaQANoYC1oAHN7Xyb1XkUcNLdrQQik4V7LkuvQDhpAA2gADaABNIAG0AAaWAsawNyuirn9sh7/0af1nT2PLnG0lsqyFioLaUCHaAANoAE0gAbQABpAA2hg7WoAc7sq5nbtCoLKStmgATSABtAAGkADaAANoAE0UI0awNxibhk9RgNoAA2gATSABtAAGkADaAANVL0GMLeIuOpFXI29SqSZ3lA0gAbQABpAA2gADaABNFBeDWBuMbeYWzSABtAAGkADaAANoAE0gAbQQNVrAHOLiKtexPR4lbfHC57wRANoAA2gATSABtAAGqhGDWBuMbeYWzSABtAAGkADaAANoAE0gAbQQNVrAHOLiKtexNXYq0Sa6Q1FA2gADaABNIAG0AAaQAPl1QDmFnOLuUUDaAANoAE0gAbQABpAA2gADVS9BtaVuV3pzBA+BCAAAQhAAAIQgAAEIAABCGxMAmPXrmczvin7jjcQgAAEIAABCEAAAhCAAAQgAIEqIoC5raLCIqkQgAAEIAABCEAAAhCAAAQgkJ8A5jY/F76FAAQgAAEIQAACEIAABCAAgSoigLmtosIiqRCAAAQgAAEIQAACEIAABCCQnwDmNj8XvoUABCAAAQhAAAIQgAAEIACBKiKAua2iwiKpEIAABCAAAQhAAAIQgAAEIJCfAOY2Pxe+hQAEIAABCEAAAhCAAAQgAIEqIoC5raLCIqkQgAAEIAABCEAAAhCAAAQgkJ8A5jY/F76FAAQgAAEIQAACEIAABCAAgSoigLmtosIiqRCAAAQgAAEIQAACEIAABCCQnwDmNj8XvoUABCAAAQhAAAIQgAAEIACBKiKwyub2ru7MzOhOpoqIkVSHwG1d6X9XY7NFgEyO6+TgR0VOqIZDC7rzUZk1Ojuj6dmFFcx8OeqVyfes7txdwWQuOehy5GfJkXEiBCAAAQhAAAIQgECVElhlczul12Jn9PvkWqI3oyv947o5v5bStAbT8tFVbdt3Rtv6ZpzE5XK70tyhTfUXdWUNJr9Qku6kxtU+5ubJnHVNv3+uvBrtPXpGm45eK5SEMnxfjnpl8n1Wr90sQ3LuO4hy5Oe+E0EAEIAABCAAAQhAAAJrnADmNqeA1tJNfU7i1vAX64PbzTNnQ8YTc7v6osPcrn4ZkAIIQAACEIAABCCw9gmsKXM7ffmy9p0a17SP21hvv/ZfdkbSPhrX/viwrnyUUvxoj767/7z2X/xIuvuRBs70a1u0RztOvaub2WnOt3Qyflm9H36k3lPnVftij3Y0X9GVjwrMtbTC79Pjz3Xop3/u177eW15KMlNqP3Ve26Jnte3oZbXfKjyt9Gb/Re07Fxry+vCa9sev6IqbNpOH5vxpWjKHyWvaf6hH322+4aXTfeewGptNKR7v0xPRPj0TYOOcWCQd1hkf3dJJi52d795Jl51h26+T45IKcMvNx4Ju9l/WMw1n9UTDee3vn3JTKylPWeVLr+8KO30lOPbe0p13r2ifFWe/4lcLz6M2WnvmlQ5terlP+4xurBnVjrm96GrorLaZcgwHU4qjL925I7fFuEiytNevHfs7VXvool4LT/W+O6uxvsvO8cvqnfwgd0ZEEf1a5dR7U9MX7TBesobanc6KlJvvAnWnSLhWloul3a3PYR0vJT8+nryFAAQgAAEIQAACEICAIbCmzK01ahYblN8WGiPwxBnHBN0c1BPPndVPD57Xa/3vqr3jvB57rlO1r/bo92ffVXv/sH4fPaNHj17THat8zQ16p376ylltO3VV7f3vKh7v1Ob6hHrD5sScP/+BBvovqva5Tj1jwnOnp86Pa9+LZ/R4fNgKo/1sQo/v69DvB12nGhLTcL8efaFfA64PNKBPdWrz4Xftr00yxQAADUdJREFUdN28otp9Hdk0nTzVp8f2nVXcyfjSOHTq8f09esmfTn8yXFb7zzpsrmr/wQ5tfmVQY266SqRDd29oX72d74Ebt9Rr0pll5xvRLMAtmI+MBuKdeiiaUNyUnVNWj8XHg2W1P1iWm18dDnR2+LOoEum34z+rHQcv62T/u7I4P9ehfcMugEBomh57V/Gjndr06kW1Z6em2/l87EU3XTbHTS9f1ph7eSgd8fhZPbTvvNrzaUxS0NyGuBiT+uIZPXHKEYNTBo+ZPAzf0EDfRf00oL3b6j3aoc0u177L2hY7q5++6JtKHdKv4fDdfWe1/5rNweL0cqdq91+0yuaKVd2WUHdC4ebUi1JptzQa1vES8uNylzQQP6NNzxX+31dNc+J9+eItBCAAAQhAAAIQgMDyCVShue3U/uxyxbvq/fMZPXrCN3I5mNDmF13jYRuTx1v9dvm22g+d0eOnfKOyAW7mmuBaQ+vmf/+VgMm6c75Pm/0GJxDGTe23zIVrom5p/8tn9EzCmOG7lrl59HVfmnVXY62e+Q2aQjvgXJPfqZfedcMPRG5/sIzDGe04f9s7ePfmstIhK4zz6s1Gk9F06iNnkyGbrbdeugA3t7PCCqtH8Q+95Gj2qnbs69R+M/rrrG3d1udLr3PNybx7Ui2R44sXdSWbfucav158yTFvLfaB9bB2PgPpmr+qHVmN3NXA6x0Kasz5roDGAub2Q9PR0Rc0wtZ359Vu1n3fzWh67Jams3mQrZW4BU0av6zHw9dfu6zHfeuEp8/2aPOhq04ngp1h6zuns8XKc4CTVx7BfAXrTsl6USrtVvmGdLyE/ASKLHNLr72S39z+tK1QHQ+EwAcIQAACEIAABCAAgXVCoArNbdB4BkyfKRTrhjmhXquAHAM2GCwtY0w3FRwRDJu0jGWGf9rpn0JrpuIOa9tzPcpvvJyRWtckmRv27EiuY3xDaZI72usaLNcUOkkP5NPKY5BDMIcuh7OKTwaPGBNtdwaUToc7cvtQLKHX+m5obMY/Uu2wzW4GFubmGEUnHxbzV64ERuWlGZ189Yy2nTPTzsPhmXTnhunlpnT683US5JpXL0TzLvd4qXSZdHRoR5sZjfb+rRHgkKF0Y/KbW4tLtN8aWfaut2cPeJ04C7pz66Z6+6/qteZ+7Yh6G1Ll17LDxiobW79PxO2ZC9k4TvZok9MJlI+Tzd6Mcruptl+nz/U4dWep9aJw2u26GtRx6fwE02N9ymNwMbZ5OPEVBCAAAQhAAAIQWOcENoC59Y/0OqWZTGhTyDx65Rw2VFOKv3JGz1z0DZ2Zk+9e0zPZ0Tvv6uw7Y0DN1NR52+h6I7Xj+v2+s3otlT3TfpMyU65tU57PbNybue2zR/98UXnmrXQ6rMsyUxo4a6+TfWzfGT20/4ozrTls+sLcgub2ZudZbfpzdsjdSZE98m5POw+HZ07JDdPLSun05+Po5d8Lyf8u93ipdJl0OGu04/3a5/8PrR934/GbW4uLtcY3dK27nnn2mn7/4hk99HKfnolf1Gt942pv9ja9sq7PMdEf6LWoOy3Z1u/jDbnh74sPW1Or83HKsg/r9OJ5p+4soV6USHs+c1s6Py7F0KvP4GJsQ2z4CAEIQAACEIAABDYIgcqa21s31D74gW96pH+ESbJGbQKm029+vNFI/+NJAqbPFFqekdsd5/0jjqFpnTkFnWuoBk50BKc+m2uuXdZ39yU0kHO9+8WM4vvNVOQb2v+i32D7Ryvdc528OyOb98LBC8l5Z3Hwx2u+94+2lU6HFdJdn6nPpPTSi4VGWnO5BUyTb2TaS6t/9LWUifSust+VTn8gfufyXPMaDDf3eKl02SYvrLFgqMFPfnOrwDT64HnmkzVSGpoSb0bfs48SMtebWQH+S61p0665tdelfjcwNd9/crATwjti5zucL2v6vDMlulS9KJn2fDMQlpAfL42hd5lb6r0cmmEROoWPEIAABCAAAQhAAALrl0Blza0xOGbUctzsNHxX0xcTesw/tddM333urF4yO9rezehm33l9d1/uhlLLNbebzCZI7g7J44PWhjyFNhWyR6w69dJV327IZg1jNt3GI9rr/B4rsnbTSMbc3G+u79CjobW5xrxam1q5afromn5f75pG2esol8khR6KWcThjbyBleXuH974enXTWvZZMRzKhh7IbSJmp2O/qmReMaTKGN2z6zOcgt4C5dNb7eqNqCxprO6vN9e7GW+HwTI7Md8Fpq/58lkp/IH7nwlzz6g/RMXoHh31rXEunKycdjj5+2vFBMHDnU8Dc5nBxyukPCfWacksmtPnli94u25NX9Uy9Ny3ZnTqe5Xp3Vr1HO7V5n2duTUdMQL/WOR16+P/Y63bzcXLLd/OLRepOONxwvSiV9nzm1tmEqmh+8lLlSwhAAAIQgAAEIACBjU6gsuZWt3XlVI8e3udsALOvU8+c9+8WdFsDzWf1kLP76Xfj13Qyz27JyzW3z7SZTXvO6OE/nNGmfZ3acS6/6bDFcFdjnT12GrLrco3h6NcT+85YpmHzc2f0+NGrPgNUQEbOCFp2t+fsabd15YzZsfaMHjIs9nWo9lTKN6K9fA7ZoN03jnF46UzCisfO+1m9dMW3YZMpjyWm47H6Dpl8P9F8w0ln2PTlcssxTZPXtC9m8mvn+6GXE2rPPlooHJ7JSHFzqxLpz4k/75paF5jz6kyl3WTtquymwWcUrdPC6fJx/IPN6fHDw96u1KEoAubWHMty6bDqxuY/+Mrp7gc6ebDTYv/YC2dkzOZrvmnJVtCpYWuHZaMjU7dqO6+FHgXk0+8fOixtP/zKRQ04uznn45Rlf7FY3fGFa+pGuF6USns+c2syVDI/IaB8hAAEIAABCEAAAhCAwKo9CsjsovqR32StVFn4DdOC7nw06+z0e6/xmTBmdCc4y7lwYPPv6pl9oR2C/WdbHO43Tf4Afe/9xqEU71LpyNzW9H2z86VtdkbTs76Rcd+he3pbKv33FOg9XGSlYxn6CEdhuAQ27fKdMD9b+Jh12l3dmZnR9LxvGrnvcvutrd/i5+RcJKlU3SlRL0qmPV+cS8lPvuv4DgIQgAAEIAABCEBgoxKo6MhtsedRrsQxd2ql+7ialYgjHKYtpNuavjVljUK7z7YNn7eSn600+MztSsZF2PkfQwOXleHy/76WCDzXtvnd0HbgG7UlJ98QgAAEIAABCEAAAqqoua087xt66cVOvXSlwjHPvKtnXuzUE4cHdcWZ+lnhFEiTZqpqn05y719x9EQIAQhAAAIQgAAEIAABCFSewDo3t5UHSowQgAAEIAABCEAAAhCAAAQgUHkCmNvKMydGCEAAAhCAAAQgAAEIQAACECgzAcxtmYESHAQgAAEIQAACEIAABCAAAQhUngDmtvLMiRECEIAABCAAAQhAAAIQgAAEykwAc1tmoAQHAQhAAAIQgAAEIAABCEAAApUngLmtPHNihAAEIAABCEAAAhCAAAQgAIEyE8DclhkowUEAAhCAAAQgAAEIQAACEIBA5QlgbivPnBghAAEIQAACEIAABCAAAQhAoMwEMLdlBkpwEIAABCAAAQhAAAIQgAAEIFB5ApjbyjMnRghAAAIQgAAEIAABCEAAAhAoMwHMbZmBEhwEIAABCEAAAhCAAAQgAAEIVJ4A5rbyzIkRAhCAAAQgAAEIQAACEIAABMpMAHNbZqAEBwEIQAACEIAABCAAAQhAAAKVJ4C5rTxzYoQABCAAAQhAAAIQgAAEIACBMhPA3JYZKMFBAAIQgAAEIAABCEAAAhCAQOUJYG4rz5wYIQABCEAAAhCAAAQgAAEIQKDMBDC3ZQZKcBCAAAQgAAEIQAACEIAABCBQeQKY28ozJ0YIQAACEIAABCAAAQhAAAIQKDMBzG2ZgRIcBCAAAQhAAAIQgAAEIAABCFSeAOa28syJEQIQgAAEIAABCEAAAhCAAATKTABzW2agBAcBCEAAAhCAAAQgAAEIQAAClSeAua08c2KEAAQgAAEIQAACEIAABCAAgTITwNyWGSjBQQACEIAABCAAAQhAAAIQgEDlCQTM7d27dyufAmKEAAQgAAEIQAACEIAABCAAAQjcBwHjZa9dH8+GsOnjmZnsB95AAAIQgAAEIAABCEAAAhCAAASqgYDxsulb72eTuskM45ovGcHNMuENBCAAAQhAAAIQgAAEIAABCKxRAsa7Gg9rvOx8JpNN5SbzwbhdM5xrDvIPAzSABtAAGkADaAANoAE0gAbQABpYqxow3tV4WL+xNQ53U9bm8gYCEIAABCAAAQhAAAIQgAAEIFClBDC3VVpwJBsCEIAABCAAAQhAAAIQgAAEPAKYW48F7yAAAQhAAAIQgAAEIAABCECgSglgbqu04Eg2BCAAAQhAAAIQgAAEIAABCHgEMLceC95BAAIQgAAEIAABCEAAAhCAQJUSwNxWacGRbAhAAAIQgAAEIAABCEAAAhDwCGBuPRa8gwAEIAABCEAAAhCAAAQgAIEqJYC5rdKCI9kQgAAEIAABCEAAAhCAAAQg4BH4/wE+elPPN7rHNwAAAABJRU5ErkJggg==)"
      ]
    },
    {
      "cell_type": "code",
      "metadata": {
        "colab": {
          "base_uri": "https://localhost:8080/",
          "height": 137
        },
        "id": "xoPZOoR7onML",
        "outputId": "3e0da788-7e2f-4d4c-f5d3-cb78245d4da7"
      },
      "source": [
        "score_from_kaggle = 1.02698\r\n",
        "scores = [tr_loss_mse, val_loss_mse, score_from_kaggle]\r\n",
        "Add_Score_to_result_table(scores_table, 'B : ML algorithm XGB', scores)"
      ],
      "execution_count": null,
      "outputs": [
        {
          "output_type": "execute_result",
          "data": {
            "text/html": [
              "<div>\n",
              "<style scoped>\n",
              "    .dataframe tbody tr th:only-of-type {\n",
              "        vertical-align: middle;\n",
              "    }\n",
              "\n",
              "    .dataframe tbody tr th {\n",
              "        vertical-align: top;\n",
              "    }\n",
              "\n",
              "    .dataframe thead th {\n",
              "        text-align: right;\n",
              "    }\n",
              "</style>\n",
              "<table border=\"1\" class=\"dataframe\">\n",
              "  <thead>\n",
              "    <tr style=\"text-align: right;\">\n",
              "      <th></th>\n",
              "      <th>0</th>\n",
              "      <th>B : ML algorithm XGB</th>\n",
              "    </tr>\n",
              "  </thead>\n",
              "  <tbody>\n",
              "    <tr>\n",
              "      <th>0</th>\n",
              "      <td>train_score</td>\n",
              "      <td>1.690591</td>\n",
              "    </tr>\n",
              "    <tr>\n",
              "      <th>1</th>\n",
              "      <td>val_score</td>\n",
              "      <td>1.660086</td>\n",
              "    </tr>\n",
              "    <tr>\n",
              "      <th>2</th>\n",
              "      <td>test_score</td>\n",
              "      <td>1.026980</td>\n",
              "    </tr>\n",
              "  </tbody>\n",
              "</table>\n",
              "</div>"
            ],
            "text/plain": [
              "             0  B : ML algorithm XGB\n",
              "0  train_score              1.690591\n",
              "1    val_score              1.660086\n",
              "2   test_score              1.026980"
            ]
          },
          "metadata": {
            "tags": []
          },
          "execution_count": 36
        }
      ]
    },
    {
      "cell_type": "markdown",
      "metadata": {
        "id": "9Rygy3iDypkM"
      },
      "source": [
        "### ML Algorithm : Random Forest Regressor"
      ]
    },
    {
      "cell_type": "code",
      "metadata": {
        "colab": {
          "base_uri": "https://localhost:8080/"
        },
        "id": "D51-6nK1kIBK",
        "outputId": "d74c0e5a-60b8-4be2-a5b2-49537e95bf34"
      },
      "source": [
        "rf_reg = RandomForestRegressor(n_estimators=5, max_depth = 3, n_jobs = -1, criterion='mse')\r\n",
        "temp_df = tr_data[['s_enc','i_enc', 'day_of_month', 'day_of_week', 'month', 'year']]\r\n",
        "rf_reg.fit(temp_df, tr_data.unit_sales)\r\n",
        "tr_preds = rf_reg.predict(temp_df)\r\n",
        "tr_loss_mse = NWRMSLE(tr_data.unit_sales, tr_preds, [1]*len(tr_data))\r\n",
        "print('2017_train_loss:'+str(tr_loss_mse))\r\n",
        "temp_df = val_data[['s_enc','i_enc', 'day_of_month', 'day_of_week', 'month', 'year']]\r\n",
        "val_preds = rf_reg.predict(temp_df)\r\n",
        "val_loss_mse = NWRMSLE(val_data.unit_sales, val_preds, [1]*len(val_data))\r\n",
        "print('2017_val_loss:'+str(val_loss_mse))"
      ],
      "execution_count": null,
      "outputs": [
        {
          "output_type": "stream",
          "text": [
            "2017_train_loss:1.222700521499767\n",
            "2017_val_loss:1.2111915960071307\n"
          ],
          "name": "stdout"
        }
      ]
    },
    {
      "cell_type": "code",
      "metadata": {
        "id": "89Nrsd5Jkhd4"
      },
      "source": [
        "rf_tst_preds = ML_algorithm_predict(test_data, rf_reg)\r\n",
        "rf_tst_preds_kaggle = create_csv_to_kaggle(path+'0final_b_rf.csv', rf_tst_preds)"
      ],
      "execution_count": null,
      "outputs": []
    },
    {
      "cell_type": "markdown",
      "metadata": {
        "id": "ubJdgycAVsuR"
      },
      "source": [
        "![image.png](data:image/png;base64,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)"
      ]
    },
    {
      "cell_type": "code",
      "metadata": {
        "colab": {
          "base_uri": "https://localhost:8080/",
          "height": 137
        },
        "id": "5AKaie4vpamL",
        "outputId": "83bfdde8-905c-4010-ee1d-47ff0795c2c3"
      },
      "source": [
        "score_from_kaggle = 1.31438\r\n",
        "scores = [tr_loss_mse, val_loss_mse, score_from_kaggle]\r\n",
        "Add_Score_to_result_table(scores_table, 'B : ML algorithm Random Forest', scores)"
      ],
      "execution_count": null,
      "outputs": [
        {
          "output_type": "execute_result",
          "data": {
            "text/html": [
              "<div>\n",
              "<style scoped>\n",
              "    .dataframe tbody tr th:only-of-type {\n",
              "        vertical-align: middle;\n",
              "    }\n",
              "\n",
              "    .dataframe tbody tr th {\n",
              "        vertical-align: top;\n",
              "    }\n",
              "\n",
              "    .dataframe thead th {\n",
              "        text-align: right;\n",
              "    }\n",
              "</style>\n",
              "<table border=\"1\" class=\"dataframe\">\n",
              "  <thead>\n",
              "    <tr style=\"text-align: right;\">\n",
              "      <th></th>\n",
              "      <th>0</th>\n",
              "      <th>B : ML algorithm XGB</th>\n",
              "      <th>B : ML algorithm Random Forest</th>\n",
              "    </tr>\n",
              "  </thead>\n",
              "  <tbody>\n",
              "    <tr>\n",
              "      <th>0</th>\n",
              "      <td>train_score</td>\n",
              "      <td>1.690591</td>\n",
              "      <td>1.222701</td>\n",
              "    </tr>\n",
              "    <tr>\n",
              "      <th>1</th>\n",
              "      <td>val_score</td>\n",
              "      <td>1.660086</td>\n",
              "      <td>1.211192</td>\n",
              "    </tr>\n",
              "    <tr>\n",
              "      <th>2</th>\n",
              "      <td>test_score</td>\n",
              "      <td>1.026980</td>\n",
              "      <td>1.314380</td>\n",
              "    </tr>\n",
              "  </tbody>\n",
              "</table>\n",
              "</div>"
            ],
            "text/plain": [
              "             0  B : ML algorithm XGB  B : ML algorithm Random Forest\n",
              "0  train_score              1.690591                        1.222701\n",
              "1    val_score              1.660086                        1.211192\n",
              "2   test_score              1.026980                        1.314380"
            ]
          },
          "metadata": {
            "tags": []
          },
          "execution_count": 45
        }
      ]
    },
    {
      "cell_type": "markdown",
      "metadata": {
        "id": "DStXIvB-y8Xx"
      },
      "source": [
        "## c. creating embedding model : \r\n",
        "preprocess, features as embedding input, build model"
      ]
    },
    {
      "cell_type": "markdown",
      "metadata": {
        "id": "TrJmk8KI-sSm"
      },
      "source": [
        "Fit & Predict with Store, Item and Date Features"
      ]
    },
    {
      "cell_type": "code",
      "metadata": {
        "id": "tVKygPaIIwQO"
      },
      "source": [
        "def set_callbacks(description='run1',patience=15,tb_base_logdir='./logs/'):\r\n",
        "    cp = ModelCheckpoint(path + 'best_model_weights_{}.h5'.format(description),save_best_only=True)\r\n",
        "    es = EarlyStopping(patience=patience,monitor='val_loss')\r\n",
        "    rlop = ReduceLROnPlateau(patience=5)   \r\n",
        "    tb = TensorBoard(log_dir='{}{}'.format(tb_base_logdir,description))\r\n",
        "#     cycl = CyclicLR(max_lr=0.03,step_size=5000)\r\n",
        "    cb = [cp,es,tb,rlop]\r\n",
        "    return cb"
      ],
      "execution_count": 36,
      "outputs": []
    },
    {
      "cell_type": "code",
      "metadata": {
        "id": "Yyjhn6FZ9Jdd"
      },
      "source": [
        "def create_bias(inp, n_in):\r\n",
        "    x = Embedding(n_in, 1, input_length=1)(inp)\r\n",
        "    return Flatten()(x)"
      ],
      "execution_count": 37,
      "outputs": []
    },
    {
      "cell_type": "code",
      "metadata": {
        "id": "JASUJNFOaahi"
      },
      "source": [
        "def embedding_input(name, n_in, n_out, reg):\r\n",
        "    inp = Input(shape=(1,), dtype='int64', name=name)\r\n",
        "    return inp, Embedding(n_in, n_out, input_length=1, embeddings_regularizer=l2(reg))(inp)"
      ],
      "execution_count": 38,
      "outputs": []
    },
    {
      "cell_type": "code",
      "metadata": {
        "id": "jgRd8rMZGljS"
      },
      "source": [
        "def plt_model(model_hist):\r\n",
        "        loss = model_hist.history['loss']\r\n",
        "        val_loss = model_hist.history['val_loss']\r\n",
        "\r\n",
        "        epochs = range(1, len(loss) + 1)\r\n",
        "\r\n",
        "        #plt.subplot(1, 2, 2)\r\n",
        "        plt.plot(epochs, loss, color='#eb4d4b', marker='o', linestyle='none', label='Training Loss')\r\n",
        "        plt.plot(epochs, val_loss, color='#eb4d4b', label='Validation Loss')\r\n",
        "        plt.title('Training and Validation Loss')\r\n",
        "        plt.legend(loc='best')\r\n",
        "        plt.xlabel('Epochs')\r\n",
        "        plt.ylabel('Loss')\r\n",
        "\r\n",
        "        plt.show()"
      ],
      "execution_count": 39,
      "outputs": []
    },
    {
      "cell_type": "markdown",
      "metadata": {
        "id": "7pek0FnkPMKZ"
      },
      "source": [
        "Create embedding input layer for each feature - No bias "
      ]
    },
    {
      "cell_type": "code",
      "metadata": {
        "colab": {
          "base_uri": "https://localhost:8080/"
        },
        "id": "oa13SHj4PMYQ",
        "outputId": "1e338528-ba46-4362-d410-06d948a4351b"
      },
      "source": [
        "store_in, s = embedding_input('store_in', n_stores, round(math.sqrt(n_stores)), 1e-4)\r\n",
        "items_in, i = embedding_input('items_in', n_items, round(math.sqrt(n_items)), 1e-4)\r\n",
        "day_of_month_in, dom = embedding_input('day_of_month_in', n_days_of_month, round(math.sqrt(n_days_of_month)), 1e-4)\r\n",
        "day_of_week_in, dow = embedding_input('day_of_week_in', n_days_of_week, round(math.sqrt(n_days_of_week)), 1e-4)\r\n",
        "month_in, m = embedding_input('month_in', n_months, round(math.sqrt(n_months)), 1e-4)\r\n",
        "year_in, y = embedding_input('year_in', n_years, round(math.sqrt(n_years)), 1e-4)\r\n",
        "x = concatenate([s, i, dom, dow, m, y])\r\n",
        "x = Flatten()(x)\r\n",
        "x = Dropout(0.3)(x)\r\n",
        "x = Dense(70, activation='relu')(x)\r\n",
        "x = Dropout(0.3)(x)\r\n",
        "x = Dense(8, activation='relu')(x)\r\n",
        "x = Dropout(0.7)(x)\r\n",
        "x = Dense(1)(x)\r\n",
        "nn = Model([store_in, items_in,day_of_month_in, day_of_week_in,month_in,year_in], x)\r\n",
        "nn.compile(Adam(0.001), loss='mse')\r\n",
        "nn.summary()"
      ],
      "execution_count": null,
      "outputs": [
        {
          "output_type": "stream",
          "text": [
            "Model: \"model\"\n",
            "__________________________________________________________________________________________________\n",
            "Layer (type)                    Output Shape         Param #     Connected to                     \n",
            "==================================================================================================\n",
            "store_in (InputLayer)           [(None, 1)]          0                                            \n",
            "__________________________________________________________________________________________________\n",
            "items_in (InputLayer)           [(None, 1)]          0                                            \n",
            "__________________________________________________________________________________________________\n",
            "day_of_month_in (InputLayer)    [(None, 1)]          0                                            \n",
            "__________________________________________________________________________________________________\n",
            "day_of_week_in (InputLayer)     [(None, 1)]          0                                            \n",
            "__________________________________________________________________________________________________\n",
            "month_in (InputLayer)           [(None, 1)]          0                                            \n",
            "__________________________________________________________________________________________________\n",
            "year_in (InputLayer)            [(None, 1)]          0                                            \n",
            "__________________________________________________________________________________________________\n",
            "embedding (Embedding)           (None, 1, 7)         378         store_in[0][0]                   \n",
            "__________________________________________________________________________________________________\n",
            "embedding_2 (Embedding)         (None, 1, 64)        262400      items_in[0][0]                   \n",
            "__________________________________________________________________________________________________\n",
            "embedding_4 (Embedding)         (None, 1, 6)         186         day_of_month_in[0][0]            \n",
            "__________________________________________________________________________________________________\n",
            "embedding_6 (Embedding)         (None, 1, 3)         21          day_of_week_in[0][0]             \n",
            "__________________________________________________________________________________________________\n",
            "embedding_8 (Embedding)         (None, 1, 3)         24          month_in[0][0]                   \n",
            "__________________________________________________________________________________________________\n",
            "embedding_10 (Embedding)        (None, 1, 1)         1           year_in[0][0]                    \n",
            "__________________________________________________________________________________________________\n",
            "concatenate (Concatenate)       (None, 1, 84)        0           embedding[0][0]                  \n",
            "                                                                 embedding_2[0][0]                \n",
            "                                                                 embedding_4[0][0]                \n",
            "                                                                 embedding_6[0][0]                \n",
            "                                                                 embedding_8[0][0]                \n",
            "                                                                 embedding_10[0][0]               \n",
            "__________________________________________________________________________________________________\n",
            "flatten_6 (Flatten)             (None, 84)           0           concatenate[0][0]                \n",
            "__________________________________________________________________________________________________\n",
            "dropout (Dropout)               (None, 84)           0           flatten_6[0][0]                  \n",
            "__________________________________________________________________________________________________\n",
            "dense (Dense)                   (None, 70)           5950        dropout[0][0]                    \n",
            "__________________________________________________________________________________________________\n",
            "dropout_1 (Dropout)             (None, 70)           0           dense[0][0]                      \n",
            "__________________________________________________________________________________________________\n",
            "dense_1 (Dense)                 (None, 8)            568         dropout_1[0][0]                  \n",
            "__________________________________________________________________________________________________\n",
            "dropout_2 (Dropout)             (None, 8)            0           dense_1[0][0]                    \n",
            "__________________________________________________________________________________________________\n",
            "dense_2 (Dense)                 (None, 1)            9           dropout_2[0][0]                  \n",
            "==================================================================================================\n",
            "Total params: 269,537\n",
            "Trainable params: 269,537\n",
            "Non-trainable params: 0\n",
            "__________________________________________________________________________________________________\n"
          ],
          "name": "stdout"
        }
      ]
    },
    {
      "cell_type": "markdown",
      "metadata": {
        "id": "3BLcqqYMVe7P"
      },
      "source": [
        "Create embedding input layer and bias for each feature - with Bias"
      ]
    },
    {
      "cell_type": "code",
      "metadata": {
        "id": "lVEBWY3l4RuY",
        "colab": {
          "base_uri": "https://localhost:8080/"
        },
        "outputId": "85aefb0f-afb8-4fe6-81ce-3a14d600e8b8"
      },
      "source": [
        "store_in, s = embedding_input('store_in', n_stores, round(math.sqrt(n_stores)), 1e-4)\r\n",
        "store_b = create_bias(store_in, n_stores)\r\n",
        "items_in, i = embedding_input('items_in', n_items, round(math.sqrt(n_items)), 1e-4)\r\n",
        "items_b = create_bias(items_in, n_items)\r\n",
        "day_of_month_in, dom = embedding_input('day_of_month_in', n_days_of_month, round(math.sqrt(n_days_of_month)), 1e-4)\r\n",
        "day_of_month_b = create_bias(day_of_month_in, n_days_of_month)\r\n",
        "day_of_week_in, dow = embedding_input('day_of_week_in', n_days_of_week, round(math.sqrt(n_days_of_week)), 1e-4)\r\n",
        "day_of_week_b = create_bias(day_of_week_in, n_days_of_week)\r\n",
        "month_in, m = embedding_input('month_in', n_months, round(math.sqrt(n_months)), 1e-4)\r\n",
        "month_b = create_bias(month_in, n_months)\r\n",
        "year_in, y = embedding_input('year_in', n_years, round(math.sqrt(n_years)), 1e-4)\r\n",
        "year_b = create_bias(year_in, n_years)\r\n",
        "x = concatenate([s, i, dom, dow, m, y])\r\n",
        "x = Flatten()(x)\r\n",
        "x = add([x, store_b])\r\n",
        "x = add([x, items_b])\r\n",
        "x = add([x, day_of_month_b])\r\n",
        "x = add([x, day_of_week_b])\r\n",
        "x = add([x, month_b])\r\n",
        "x = add([x, year_b])\r\n",
        "x = Dropout(0.3)(x)\r\n",
        "x = Dense(70, activation='relu')(x)\r\n",
        "x = Dropout(0.3)(x)\r\n",
        "x = Dense(8, activation='relu')(x)\r\n",
        "x = Dropout(0.7)(x)\r\n",
        "x = Dense(1)(x)\r\n",
        "nn_bias = Model([store_in, items_in,day_of_month_in, day_of_week_in,month_in,year_in], x)\r\n",
        "nn_bias.compile(Adam(0.001), loss='mse')\r\n",
        "nn_bias.summary()"
      ],
      "execution_count": null,
      "outputs": [
        {
          "output_type": "stream",
          "text": [
            "Model: \"model_1\"\n",
            "__________________________________________________________________________________________________\n",
            "Layer (type)                    Output Shape         Param #     Connected to                     \n",
            "==================================================================================================\n",
            "store_in (InputLayer)           [(None, 1)]          0                                            \n",
            "__________________________________________________________________________________________________\n",
            "items_in (InputLayer)           [(None, 1)]          0                                            \n",
            "__________________________________________________________________________________________________\n",
            "day_of_month_in (InputLayer)    [(None, 1)]          0                                            \n",
            "__________________________________________________________________________________________________\n",
            "day_of_week_in (InputLayer)     [(None, 1)]          0                                            \n",
            "__________________________________________________________________________________________________\n",
            "month_in (InputLayer)           [(None, 1)]          0                                            \n",
            "__________________________________________________________________________________________________\n",
            "year_in (InputLayer)            [(None, 1)]          0                                            \n",
            "__________________________________________________________________________________________________\n",
            "embedding_12 (Embedding)        (None, 1, 7)         378         store_in[0][0]                   \n",
            "__________________________________________________________________________________________________\n",
            "embedding_14 (Embedding)        (None, 1, 64)        262400      items_in[0][0]                   \n",
            "__________________________________________________________________________________________________\n",
            "embedding_16 (Embedding)        (None, 1, 6)         186         day_of_month_in[0][0]            \n",
            "__________________________________________________________________________________________________\n",
            "embedding_18 (Embedding)        (None, 1, 3)         21          day_of_week_in[0][0]             \n",
            "__________________________________________________________________________________________________\n",
            "embedding_20 (Embedding)        (None, 1, 3)         24          month_in[0][0]                   \n",
            "__________________________________________________________________________________________________\n",
            "embedding_22 (Embedding)        (None, 1, 1)         1           year_in[0][0]                    \n",
            "__________________________________________________________________________________________________\n",
            "concatenate_1 (Concatenate)     (None, 1, 84)        0           embedding_12[0][0]               \n",
            "                                                                 embedding_14[0][0]               \n",
            "                                                                 embedding_16[0][0]               \n",
            "                                                                 embedding_18[0][0]               \n",
            "                                                                 embedding_20[0][0]               \n",
            "                                                                 embedding_22[0][0]               \n",
            "__________________________________________________________________________________________________\n",
            "embedding_13 (Embedding)        (None, 1, 1)         54          store_in[0][0]                   \n",
            "__________________________________________________________________________________________________\n",
            "flatten_13 (Flatten)            (None, 84)           0           concatenate_1[0][0]              \n",
            "__________________________________________________________________________________________________\n",
            "flatten_7 (Flatten)             (None, 1)            0           embedding_13[0][0]               \n",
            "__________________________________________________________________________________________________\n",
            "embedding_15 (Embedding)        (None, 1, 1)         4100        items_in[0][0]                   \n",
            "__________________________________________________________________________________________________\n",
            "add (Add)                       (None, 84)           0           flatten_13[0][0]                 \n",
            "                                                                 flatten_7[0][0]                  \n",
            "__________________________________________________________________________________________________\n",
            "flatten_8 (Flatten)             (None, 1)            0           embedding_15[0][0]               \n",
            "__________________________________________________________________________________________________\n",
            "embedding_17 (Embedding)        (None, 1, 1)         31          day_of_month_in[0][0]            \n",
            "__________________________________________________________________________________________________\n",
            "add_1 (Add)                     (None, 84)           0           add[0][0]                        \n",
            "                                                                 flatten_8[0][0]                  \n",
            "__________________________________________________________________________________________________\n",
            "flatten_9 (Flatten)             (None, 1)            0           embedding_17[0][0]               \n",
            "__________________________________________________________________________________________________\n",
            "embedding_19 (Embedding)        (None, 1, 1)         7           day_of_week_in[0][0]             \n",
            "__________________________________________________________________________________________________\n",
            "add_2 (Add)                     (None, 84)           0           add_1[0][0]                      \n",
            "                                                                 flatten_9[0][0]                  \n",
            "__________________________________________________________________________________________________\n",
            "flatten_10 (Flatten)            (None, 1)            0           embedding_19[0][0]               \n",
            "__________________________________________________________________________________________________\n",
            "embedding_21 (Embedding)        (None, 1, 1)         8           month_in[0][0]                   \n",
            "__________________________________________________________________________________________________\n",
            "add_3 (Add)                     (None, 84)           0           add_2[0][0]                      \n",
            "                                                                 flatten_10[0][0]                 \n",
            "__________________________________________________________________________________________________\n",
            "flatten_11 (Flatten)            (None, 1)            0           embedding_21[0][0]               \n",
            "__________________________________________________________________________________________________\n",
            "embedding_23 (Embedding)        (None, 1, 1)         1           year_in[0][0]                    \n",
            "__________________________________________________________________________________________________\n",
            "add_4 (Add)                     (None, 84)           0           add_3[0][0]                      \n",
            "                                                                 flatten_11[0][0]                 \n",
            "__________________________________________________________________________________________________\n",
            "flatten_12 (Flatten)            (None, 1)            0           embedding_23[0][0]               \n",
            "__________________________________________________________________________________________________\n",
            "add_5 (Add)                     (None, 84)           0           add_4[0][0]                      \n",
            "                                                                 flatten_12[0][0]                 \n",
            "__________________________________________________________________________________________________\n",
            "dropout_3 (Dropout)             (None, 84)           0           add_5[0][0]                      \n",
            "__________________________________________________________________________________________________\n",
            "dense_3 (Dense)                 (None, 70)           5950        dropout_3[0][0]                  \n",
            "__________________________________________________________________________________________________\n",
            "dropout_4 (Dropout)             (None, 70)           0           dense_3[0][0]                    \n",
            "__________________________________________________________________________________________________\n",
            "dense_4 (Dense)                 (None, 8)            568         dropout_4[0][0]                  \n",
            "__________________________________________________________________________________________________\n",
            "dropout_5 (Dropout)             (None, 8)            0           dense_4[0][0]                    \n",
            "__________________________________________________________________________________________________\n",
            "dense_5 (Dense)                 (None, 1)            9           dropout_5[0][0]                  \n",
            "==================================================================================================\n",
            "Total params: 273,738\n",
            "Trainable params: 273,738\n",
            "Non-trainable params: 0\n",
            "__________________________________________________________________________________________________\n"
          ],
          "name": "stdout"
        }
      ]
    },
    {
      "cell_type": "markdown",
      "metadata": {
        "id": "D5Ba_yhYzkfJ"
      },
      "source": [
        "## d. Predict using features embedding"
      ]
    },
    {
      "cell_type": "markdown",
      "metadata": {
        "id": "nqYV7TnBQZLl"
      },
      "source": [
        "without bias:"
      ]
    },
    {
      "cell_type": "code",
      "metadata": {
        "colab": {
          "base_uri": "https://localhost:8080/"
        },
        "id": "h9e2qDx7necY",
        "outputId": "4c20e815-f9c5-4300-d556-aa38837679d3"
      },
      "source": [
        "print('year 2017:') \r\n",
        "history = nn.fit([tr_data.s_enc, tr_data.i_enc, tr_data.day_of_month, tr_data.day_of_week, tr_data.month, tr_data.year], tr_data.unit_sales, batch_size=64, epochs=5, \r\n",
        "           validation_data=([val_data.s_enc, val_data.i_enc, val_data.day_of_month, val_data.day_of_week, val_data.month, val_data.year], val_data.unit_sales), callbacks = set_callbacks(description='d_nn'))"
      ],
      "execution_count": null,
      "outputs": [
        {
          "output_type": "stream",
          "text": [
            "year 2017:\n",
            "Epoch 1/5\n",
            "347458/347458 [==============================] - 1168s 3ms/step - loss: 1.2822 - val_loss: 0.9844\n",
            "Epoch 2/5\n",
            "347458/347458 [==============================] - 1150s 3ms/step - loss: 1.2040 - val_loss: 1.0035\n",
            "Epoch 3/5\n",
            "347458/347458 [==============================] - 1149s 3ms/step - loss: 1.2021 - val_loss: 1.0145\n",
            "Epoch 4/5\n",
            "347458/347458 [==============================] - 1148s 3ms/step - loss: 1.2016 - val_loss: 1.0137\n",
            "Epoch 5/5\n",
            "347458/347458 [==============================] - 1152s 3ms/step - loss: 1.2004 - val_loss: 1.0218\n"
          ],
          "name": "stdout"
        }
      ]
    },
    {
      "cell_type": "code",
      "metadata": {
        "colab": {
          "base_uri": "https://localhost:8080/",
          "height": 294
        },
        "id": "8WBFRSh0p_ms",
        "outputId": "522d8dc5-4a00-4ea1-8cd7-fc3356746d58"
      },
      "source": [
        "tr_loss_mse = history.history['loss'][-1]\r\n",
        "val_loss_mse = history.history['val_loss'][-1]\r\n",
        "plt_model(history)"
      ],
      "execution_count": null,
      "outputs": [
        {
          "output_type": "display_data",
          "data": {
            "image/png": "[encoded data removed]",
            "text/plain": [
              "<Figure size 432x288 with 1 Axes>"
            ]
          },
          "metadata": {
            "tags": [],
            "needs_background": "light"
          }
        }
      ]
    },
    {
      "cell_type": "code",
      "metadata": {
        "id": "dbchInTHF0Wm"
      },
      "source": [
        "nn.load_weights(path + 'best_model_weights_{}.h5'.format('d_nn'))\r\n",
        "preds = nn.predict([test_data.s_enc, test_data.i_enc, test_data.day_of_month, test_data.day_of_week, test_data.month, test_data.year])\r\n",
        "nn_kaggle_preds = create_csv_to_kaggle(path+'0final_d_nn.csv', preds)"
      ],
      "execution_count": null,
      "outputs": []
    },
    {
      "cell_type": "markdown",
      "metadata": {
        "id": "RzukznpM3QYs"
      },
      "source": [
        "![image.png](data:image/png;base64,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)"
      ]
    },
    {
      "cell_type": "code",
      "metadata": {
        "id": "zJGpsZlIv_qi",
        "colab": {
          "base_uri": "https://localhost:8080/",
          "height": 137
        },
        "outputId": "f353eb65-0fc7-40bf-9e00-d355bc5a7777"
      },
      "source": [
        "score_from_kaggle = 1.19082\r\n",
        "scores = [tr_loss_mse, val_loss_mse, score_from_kaggle]\r\n",
        "Add_Score_to_result_table(scores_table, 'D : Embedding NN No Bias', scores)"
      ],
      "execution_count": null,
      "outputs": [
        {
          "output_type": "execute_result",
          "data": {
            "text/html": [
              "<div>\n",
              "<style scoped>\n",
              "    .dataframe tbody tr th:only-of-type {\n",
              "        vertical-align: middle;\n",
              "    }\n",
              "\n",
              "    .dataframe tbody tr th {\n",
              "        vertical-align: top;\n",
              "    }\n",
              "\n",
              "    .dataframe thead th {\n",
              "        text-align: right;\n",
              "    }\n",
              "</style>\n",
              "<table border=\"1\" class=\"dataframe\">\n",
              "  <thead>\n",
              "    <tr style=\"text-align: right;\">\n",
              "      <th></th>\n",
              "      <th>0</th>\n",
              "      <th>B : ML algorithm XGB</th>\n",
              "      <th>B : ML algorithm Random Forest</th>\n",
              "      <th>D : Embedding NN No Bias</th>\n",
              "    </tr>\n",
              "  </thead>\n",
              "  <tbody>\n",
              "    <tr>\n",
              "      <th>0</th>\n",
              "      <td>train_score</td>\n",
              "      <td>1.690591</td>\n",
              "      <td>1.222701</td>\n",
              "      <td>1.201341</td>\n",
              "    </tr>\n",
              "    <tr>\n",
              "      <th>1</th>\n",
              "      <td>val_score</td>\n",
              "      <td>1.660086</td>\n",
              "      <td>1.211192</td>\n",
              "      <td>1.021849</td>\n",
              "    </tr>\n",
              "    <tr>\n",
              "      <th>2</th>\n",
              "      <td>test_score</td>\n",
              "      <td>1.026980</td>\n",
              "      <td>1.314380</td>\n",
              "      <td>1.190820</td>\n",
              "    </tr>\n",
              "  </tbody>\n",
              "</table>\n",
              "</div>"
            ],
            "text/plain": [
              "             0  ...  D : Embedding NN No Bias\n",
              "0  train_score  ...                  1.201341\n",
              "1    val_score  ...                  1.021849\n",
              "2   test_score  ...                  1.190820\n",
              "\n",
              "[3 rows x 4 columns]"
            ]
          },
          "metadata": {
            "tags": []
          },
          "execution_count": 49
        }
      ]
    },
    {
      "cell_type": "markdown",
      "metadata": {
        "id": "HO54Fp2VQudP"
      },
      "source": [
        "with bias:"
      ]
    },
    {
      "cell_type": "code",
      "metadata": {
        "id": "WvZesseHI1pN",
        "colab": {
          "base_uri": "https://localhost:8080/"
        },
        "outputId": "a01a2d50-98a1-4aa6-ddba-0c47c19940ee"
      },
      "source": [
        "print('year 2017:') \r\n",
        "history = nn_bias.fit([tr_data.s_enc, tr_data.i_enc, tr_data.day_of_month, tr_data.day_of_week, tr_data.month, tr_data.year], tr_data.unit_sales, batch_size=64, epochs=5, \r\n",
        "           validation_data=([val_data.s_enc, val_data.i_enc, val_data.day_of_month, val_data.day_of_week, val_data.month, val_data.year], val_data.unit_sales), callbacks = set_callbacks(description='d_nn_bias'))"
      ],
      "execution_count": null,
      "outputs": [
        {
          "output_type": "stream",
          "text": [
            "year 2017:\n",
            "Epoch 1/5\n",
            "347458/347458 [==============================] - 1487s 4ms/step - loss: 1.2339 - val_loss: 0.9588\n",
            "Epoch 2/5\n",
            "347458/347458 [==============================] - 1344s 4ms/step - loss: 1.1514 - val_loss: 0.9935\n",
            "Epoch 3/5\n",
            "347458/347458 [==============================] - 1288s 4ms/step - loss: 1.1506 - val_loss: 0.9259\n",
            "Epoch 4/5\n",
            "347458/347458 [==============================] - 1292s 4ms/step - loss: 1.1514 - val_loss: 0.9593\n",
            "Epoch 5/5\n",
            "347458/347458 [==============================] - 1289s 4ms/step - loss: 1.1515 - val_loss: 1.0131\n"
          ],
          "name": "stdout"
        }
      ]
    },
    {
      "cell_type": "code",
      "metadata": {
        "colab": {
          "base_uri": "https://localhost:8080/",
          "height": 294
        },
        "id": "0NwweBcwpyIx",
        "outputId": "379df582-4329-4a67-9dac-0e1453d3148f"
      },
      "source": [
        "tr_loss_mse = history.history['loss'][-1]\r\n",
        "val_loss_mse = history.history['val_loss'][-1]\r\n",
        "plt_model(history)"
      ],
      "execution_count": null,
      "outputs": [
        {
          "output_type": "display_data",
          "data": {
            "image/png": "[encoded data removed]",
            "text/plain": [
              "<Figure size 432x288 with 1 Axes>"
            ]
          },
          "metadata": {
            "tags": [],
            "needs_background": "light"
          }
        }
      ]
    },
    {
      "cell_type": "code",
      "metadata": {
        "id": "TvZaFAGzQ5BP"
      },
      "source": [
        "nn_bias.load_weights(path + 'best_model_weights_{}.h5'.format('d_nn_bias'))\r\n",
        "preds = nn_bias.predict([test_data.s_enc, test_data.i_enc, test_data.day_of_month, test_data.day_of_week, test_data.month, test_data.year])\r\n",
        "nn_kaggle_preds = create_csv_to_kaggle(path+'0final_d_nn_bias.csv', preds)"
      ],
      "execution_count": null,
      "outputs": []
    },
    {
      "cell_type": "markdown",
      "metadata": {
        "id": "FeGmYVXaSvZJ"
      },
      "source": [
        "![image.png](data:image/png;base64,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)"
      ]
    },
    {
      "cell_type": "code",
      "metadata": {
        "colab": {
          "base_uri": "https://localhost:8080/",
          "height": 137
        },
        "id": "EAlEocqvQ5ID",
        "outputId": "94cad84f-8277-493c-f4b6-7012ecdd6595"
      },
      "source": [
        "score_from_kaggle = 1.21918\r\n",
        "scores = [tr_loss_mse, val_loss_mse, score_from_kaggle]\r\n",
        "Add_Score_to_result_table(scores_table, 'D : Embedding NN Bias', scores)"
      ],
      "execution_count": null,
      "outputs": [
        {
          "output_type": "execute_result",
          "data": {
            "text/html": [
              "<div>\n",
              "<style scoped>\n",
              "    .dataframe tbody tr th:only-of-type {\n",
              "        vertical-align: middle;\n",
              "    }\n",
              "\n",
              "    .dataframe tbody tr th {\n",
              "        vertical-align: top;\n",
              "    }\n",
              "\n",
              "    .dataframe thead th {\n",
              "        text-align: right;\n",
              "    }\n",
              "</style>\n",
              "<table border=\"1\" class=\"dataframe\">\n",
              "  <thead>\n",
              "    <tr style=\"text-align: right;\">\n",
              "      <th></th>\n",
              "      <th>0</th>\n",
              "      <th>B : ML algorithm XGB</th>\n",
              "      <th>B : ML algorithm Random Forest</th>\n",
              "      <th>D : Embedding NN No Bias</th>\n",
              "      <th>D : Embedding NN Bias</th>\n",
              "    </tr>\n",
              "  </thead>\n",
              "  <tbody>\n",
              "    <tr>\n",
              "      <th>0</th>\n",
              "      <td>train_score</td>\n",
              "      <td>1.690591</td>\n",
              "      <td>1.222701</td>\n",
              "      <td>1.201341</td>\n",
              "      <td>1.151640</td>\n",
              "    </tr>\n",
              "    <tr>\n",
              "      <th>1</th>\n",
              "      <td>val_score</td>\n",
              "      <td>1.660086</td>\n",
              "      <td>1.211192</td>\n",
              "      <td>1.021849</td>\n",
              "      <td>1.013128</td>\n",
              "    </tr>\n",
              "    <tr>\n",
              "      <th>2</th>\n",
              "      <td>test_score</td>\n",
              "      <td>1.026980</td>\n",
              "      <td>1.314380</td>\n",
              "      <td>1.190820</td>\n",
              "      <td>1.219180</td>\n",
              "    </tr>\n",
              "  </tbody>\n",
              "</table>\n",
              "</div>"
            ],
            "text/plain": [
              "             0  ...  D : Embedding NN Bias\n",
              "0  train_score  ...               1.151640\n",
              "1    val_score  ...               1.013128\n",
              "2   test_score  ...               1.219180\n",
              "\n",
              "[3 rows x 5 columns]"
            ]
          },
          "metadata": {
            "tags": []
          },
          "execution_count": 54
        }
      ]
    },
    {
      "cell_type": "markdown",
      "metadata": {
        "id": "MztvrkEYr5W3"
      },
      "source": [
        "## e. Adding more features to the model:\r\n",
        "adding fetures from other tables\r\n",
        "merge the tables with train and test *data*"
      ]
    },
    {
      "cell_type": "code",
      "metadata": {
        "colab": {
          "base_uri": "https://localhost:8080/"
        },
        "id": "BAQp-6XsnT10",
        "outputId": "c16b7937-1a3d-4871-c606-c59eca3110c6"
      },
      "source": [
        "df_stores = import_data(path + 'stores.csv')"
      ],
      "execution_count": 42,
      "outputs": [
        {
          "output_type": "stream",
          "text": [
            "100%|██████████| 5/5 [00:00<00:00, 1028.82it/s]\n"
          ],
          "name": "stderr"
        }
      ]
    },
    {
      "cell_type": "code",
      "metadata": {
        "id": "DpA4jP_KhwtS",
        "colab": {
          "base_uri": "https://localhost:8080/"
        },
        "outputId": "d9d79c6d-76ea-42a5-918b-0522b7648490"
      },
      "source": [
        "train_data = train_data.merge(df_stores, how='inner', on='store_nbr')\r\n",
        "train_data = reduce_mem_usage(train_data)"
      ],
      "execution_count": 43,
      "outputs": [
        {
          "output_type": "stream",
          "text": [
            "100%|██████████| 16/16 [00:02<00:00,  7.37it/s]\n"
          ],
          "name": "stderr"
        }
      ]
    },
    {
      "cell_type": "code",
      "metadata": {
        "id": "3-xlsW9HjmCC",
        "colab": {
          "base_uri": "https://localhost:8080/"
        },
        "outputId": "bce40d1b-df1b-4cb7-df63-482a7a5b6d9a"
      },
      "source": [
        "test_data = test_data.merge(df_stores, how='inner', on='store_nbr')\r\n",
        "test_data = reduce_mem_usage(test_data)"
      ],
      "execution_count": 44,
      "outputs": [
        {
          "output_type": "stream",
          "text": [
            "100%|██████████| 15/15 [00:00<00:00, 70.22it/s]\n"
          ],
          "name": "stderr"
        }
      ]
    },
    {
      "cell_type": "code",
      "metadata": {
        "id": "PpsAhcH3jmih",
        "colab": {
          "base_uri": "https://localhost:8080/"
        },
        "outputId": "5a1f8f90-22dc-4e54-8459-1adfbe7ec8f2"
      },
      "source": [
        "del df_stores; gc.collect()"
      ],
      "execution_count": 45,
      "outputs": [
        {
          "output_type": "execute_result",
          "data": {
            "text/plain": [
              "12"
            ]
          },
          "metadata": {
            "tags": []
          },
          "execution_count": 45
        }
      ]
    },
    {
      "cell_type": "code",
      "metadata": {
        "colab": {
          "base_uri": "https://localhost:8080/"
        },
        "id": "JcWZ3lawsl5W",
        "outputId": "baf742e4-0aa4-4381-f957-e86fca735a4e"
      },
      "source": [
        "df_items = import_data(path + 'items.csv')"
      ],
      "execution_count": 46,
      "outputs": [
        {
          "output_type": "stream",
          "text": [
            "100%|██████████| 4/4 [00:00<00:00, 745.42it/s]\n"
          ],
          "name": "stderr"
        }
      ]
    },
    {
      "cell_type": "code",
      "metadata": {
        "id": "6g6pddPfh3KP",
        "colab": {
          "base_uri": "https://localhost:8080/"
        },
        "outputId": "fe2a97a5-434c-494e-b109-ac8598df29a6"
      },
      "source": [
        "train_data = train_data.merge(df_items, how='inner', on='item_nbr')\r\n",
        "train_data = reduce_mem_usage(train_data)"
      ],
      "execution_count": 47,
      "outputs": [
        {
          "output_type": "stream",
          "text": [
            "100%|██████████| 19/19 [00:02<00:00,  8.20it/s]\n"
          ],
          "name": "stderr"
        }
      ]
    },
    {
      "cell_type": "code",
      "metadata": {
        "id": "q0YN-QmTjwNQ",
        "colab": {
          "base_uri": "https://localhost:8080/"
        },
        "outputId": "21a5bb45-54c5-4b8b-d681-905767372687"
      },
      "source": [
        "test_data = test_data.merge(df_items, how='inner', on='item_nbr')\r\n",
        "test_data = reduce_mem_usage(test_data)"
      ],
      "execution_count": 48,
      "outputs": [
        {
          "output_type": "stream",
          "text": [
            "100%|██████████| 18/18 [00:00<00:00, 77.03it/s]\n"
          ],
          "name": "stderr"
        }
      ]
    },
    {
      "cell_type": "code",
      "metadata": {
        "id": "g8hyiTSIjwR8",
        "colab": {
          "base_uri": "https://localhost:8080/"
        },
        "outputId": "fff61eaf-73f4-40a9-af36-47f53a93a0c0"
      },
      "source": [
        "del df_items; gc.collect()\r\n"
      ],
      "execution_count": 49,
      "outputs": [
        {
          "output_type": "execute_result",
          "data": {
            "text/plain": [
              "0"
            ]
          },
          "metadata": {
            "tags": []
          },
          "execution_count": 49
        }
      ]
    },
    {
      "cell_type": "markdown",
      "metadata": {
        "id": "XQg0abUG1176"
      },
      "source": [
        "Feature encoding"
      ]
    },
    {
      "cell_type": "code",
      "metadata": {
        "colab": {
          "base_uri": "https://localhost:8080/"
        },
        "id": "XKRPF8Gf9mak",
        "outputId": "3cdb910b-6353-4d6f-e06f-793a6122cb2a"
      },
      "source": [
        "train_data['family'] = [family_enc[x] for x in train_data['family']]\r\n",
        "train_data = reduce_mem_usage(train_data)\r\n",
        "train_data['class'] = [class_enc[x] for x in train_data['class']]\r\n",
        "train_data = reduce_mem_usage(train_data)\r\n",
        "train_data['perishable'] = [perishable_enc[x] for x in train_data['perishable']]\r\n",
        "train_data = reduce_mem_usage(train_data)\r\n",
        "train_data['city'] = [city_enc[x] for x in train_data['city']]\r\n",
        "train_data = reduce_mem_usage(train_data)\r\n",
        "train_data['state'] = [state_enc[x] for x in train_data['state']]\r\n",
        "train_data = reduce_mem_usage(train_data)\r\n",
        "train_data['type'] = [type_enc[x] for x in train_data['type']]\r\n",
        "train_data = reduce_mem_usage(train_data)\r\n",
        "train_data['cluster'] = [cluster_enc[x] for x in train_data['cluster']]\r\n",
        "train_data = reduce_mem_usage(train_data)"
      ],
      "execution_count": 50,
      "outputs": [
        {
          "output_type": "stream",
          "text": [
            "100%|██████████| 19/19 [00:02<00:00,  7.96it/s]\n",
            "100%|██████████| 19/19 [00:02<00:00,  7.98it/s]\n",
            "100%|██████████| 19/19 [00:02<00:00,  7.99it/s]\n",
            "100%|██████████| 19/19 [00:02<00:00,  7.89it/s]\n",
            "100%|██████████| 19/19 [00:02<00:00,  7.68it/s]\n",
            "100%|██████████| 19/19 [00:02<00:00,  7.55it/s]\n",
            "100%|██████████| 19/19 [00:02<00:00,  7.59it/s]\n"
          ],
          "name": "stderr"
        }
      ]
    },
    {
      "cell_type": "code",
      "metadata": {
        "colab": {
          "base_uri": "https://localhost:8080/"
        },
        "id": "aYj4ubeurkvD",
        "outputId": "02f18d35-3c57-4bf0-b7c0-0f4f542ed988"
      },
      "source": [
        "test_data['family'] = [family_enc[x] for x in test_data['family']]\r\n",
        "test_data = reduce_mem_usage(test_data)\r\n",
        "test_data['class'] = [class_enc[x] for x in test_data['class']]\r\n",
        "test_data = reduce_mem_usage(test_data)\r\n",
        "test_data['perishable'] = [perishable_enc[x] for x in test_data['perishable']]\r\n",
        "test_data = reduce_mem_usage(test_data)\r\n",
        "test_data['city'] = [city_enc[x] for x in test_data['city']]\r\n",
        "test_data = reduce_mem_usage(test_data)\r\n",
        "test_data['state'] = [state_enc[x] for x in test_data['state']]\r\n",
        "test_data = reduce_mem_usage(test_data)\r\n",
        "test_data['type'] = [type_enc[x] for x in test_data['type']]\r\n",
        "test_data = reduce_mem_usage(test_data)\r\n",
        "test_data['cluster'] = [cluster_enc[x] for x in test_data['cluster']]\r\n",
        "test_data = reduce_mem_usage(test_data)"
      ],
      "execution_count": 51,
      "outputs": [
        {
          "output_type": "stream",
          "text": [
            "100%|██████████| 18/18 [00:00<00:00, 70.07it/s]\n",
            "100%|██████████| 18/18 [00:00<00:00, 73.78it/s]\n",
            "100%|██████████| 18/18 [00:00<00:00, 70.90it/s]\n",
            "100%|██████████| 18/18 [00:00<00:00, 70.76it/s]\n",
            "100%|██████████| 18/18 [00:00<00:00, 69.35it/s]\n",
            "100%|██████████| 18/18 [00:00<00:00, 67.21it/s]\n",
            "100%|██████████| 18/18 [00:00<00:00, 63.70it/s]\n"
          ],
          "name": "stderr"
        }
      ]
    },
    {
      "cell_type": "markdown",
      "metadata": {
        "id": "hhSo4JXgHYk6"
      },
      "source": [
        "Feature selection :\r\n",
        "to select the best features for our model we used random forest to understand better how much each feature contributed to the prediction"
      ]
    },
    {
      "cell_type": "code",
      "metadata": {
        "colab": {
          "base_uri": "https://localhost:8080/"
        },
        "id": "uZwZJ1mkwP5Q",
        "outputId": "5367a778-8823-4aef-aeac-0beb983e373b"
      },
      "source": [
        "selected_cols = ['day_of_month', 'day_of_week', 'month', 'year', 'onpromotion', 'family', 'class', 'perishable', 'city', 'state', 'type', 'cluster']\r\n",
        "x_train = train_data[selected_cols]\r\n",
        "y_train = train_data['unit_sales']\r\n",
        "fs_rf = RandomForestRegressor(n_estimators = 5)\r\n",
        "sel = SelectFromModel(fs_rf,threshold=0.05)\r\n",
        "print(\"start fit\")\r\n",
        "sel.fit(x_train, y_train)\r\n",
        "selected_feat= x_train.columns[(sel.get_support())]\r\n",
        "sel_tran = sel.transform(x_train)\r\n",
        "print(\"The selected features are:\")\r\n",
        "print(selected_feat)"
      ],
      "execution_count": null,
      "outputs": [
        {
          "output_type": "stream",
          "text": [
            "start fit\n",
            "The selected features are:\n",
            "Index(['day_of_month', 'day_of_week', 'month', 'family', 'class', 'type',\n",
            "       'cluster'],\n",
            "      dtype='object')\n"
          ],
          "name": "stdout"
        }
      ]
    },
    {
      "cell_type": "markdown",
      "metadata": {
        "id": "w4V8sPu9-BvI"
      },
      "source": [
        "Drop the features that not selected"
      ]
    },
    {
      "cell_type": "code",
      "metadata": {
        "id": "T9X0NTWZ6dvh"
      },
      "source": [
        "train_data.drop(columns=[ 'year', 'onpromotion', 'perishable', 'city', 'state'], inplace=True)"
      ],
      "execution_count": 52,
      "outputs": []
    },
    {
      "cell_type": "code",
      "metadata": {
        "id": "-NATfiGcj41M"
      },
      "source": [
        "test_data.drop(columns=[ 'year', 'onpromotion', 'perishable', 'city', 'state'], inplace=True)"
      ],
      "execution_count": 53,
      "outputs": []
    },
    {
      "cell_type": "code",
      "metadata": {
        "id": "FlrQCSgTeP_l"
      },
      "source": [
        "n_family = len(family_enc)\r\n",
        "n_class = len(class_enc)\r\n",
        "n_type = len(type_enc)\r\n",
        "n_cluster = len(cluster_enc)"
      ],
      "execution_count": 54,
      "outputs": []
    },
    {
      "cell_type": "code",
      "metadata": {
        "colab": {
          "base_uri": "https://localhost:8080/"
        },
        "id": "BTfn0xHzFy4t",
        "outputId": "4b181530-d0e9-49a3-a792-fc9881db2982"
      },
      "source": [
        "tr_data = train_data.query('month < 7')\r\n",
        "val_data = train_data.query('month == 7')\r\n",
        "len(tr_data), len(val_data)"
      ],
      "execution_count": 55,
      "outputs": [
        {
          "output_type": "execute_result",
          "data": {
            "text/plain": [
              "(22237293, 1570968)"
            ]
          },
          "metadata": {
            "tags": []
          },
          "execution_count": 55
        }
      ]
    },
    {
      "cell_type": "markdown",
      "metadata": {
        "id": "3O_3IPlgHlEu"
      },
      "source": [
        "Fit & Predict with features from feature selection : Category embedding\r\n"
      ]
    },
    {
      "cell_type": "code",
      "metadata": {
        "colab": {
          "base_uri": "https://localhost:8080/"
        },
        "id": "vxXTwwnQ6wzZ",
        "outputId": "aa6e8e07-df1e-4586-9038-03ff4e929585"
      },
      "source": [
        "store_in, s = embedding_input('store_in', n_stores, round(math.sqrt(n_stores)), 1e-4)\r\n",
        "items_in, i = embedding_input('items_in', n_items, round(math.sqrt(n_items)), 1e-4)\r\n",
        "day_of_month_in, dom = embedding_input('day_of_month_in', n_days_of_month, round(math.sqrt(n_days_of_month)), 1e-4)\r\n",
        "day_of_week_in, dow = embedding_input('day_of_week_in', n_days_of_week, round(math.sqrt(n_days_of_week)), 1e-4)\r\n",
        "month_in, m = embedding_input('month_in', n_months, round(math.sqrt(n_months)), 1e-4)\r\n",
        "family_in, f = embedding_input('family_in', n_family, round(math.sqrt(n_family)), 1e-4)\r\n",
        "class_in, cla = embedding_input('class_in', n_class, round(math.sqrt(n_class)), 1e-4)\r\n",
        "type_in, t = embedding_input('type_in', n_type, round(math.sqrt(n_type)), 1e-4)\r\n",
        "cluster_in, clu = embedding_input('cluster_in', n_cluster, round(math.sqrt(n_cluster)), 1e-4)\r\n",
        "x = concatenate([s, i, dom, dow, m, f, cla, t, clu])\r\n",
        "x = Flatten()(x)\r\n",
        "x = Dropout(0.3)(x)\r\n",
        "x = Dense(70, activation='relu')(x)\r\n",
        "x = Dropout(0.3)(x)\r\n",
        "x = Dense(8, activation='relu')(x)\r\n",
        "x = Dropout(0.7)(x)\r\n",
        "x = Dense(1)(x)\r\n",
        "nn = Model([ store_in, items_in, day_of_month_in, day_of_week_in, month_in, family_in, class_in, type_in, cluster_in], x)\r\n",
        "nn.compile(Adam(0.001), loss='mse')\r\n",
        "nn.summary()"
      ],
      "execution_count": 56,
      "outputs": [
        {
          "output_type": "stream",
          "text": [
            "Model: \"model\"\n",
            "__________________________________________________________________________________________________\n",
            "Layer (type)                    Output Shape         Param #     Connected to                     \n",
            "==================================================================================================\n",
            "store_in (InputLayer)           [(None, 1)]          0                                            \n",
            "__________________________________________________________________________________________________\n",
            "items_in (InputLayer)           [(None, 1)]          0                                            \n",
            "__________________________________________________________________________________________________\n",
            "day_of_month_in (InputLayer)    [(None, 1)]          0                                            \n",
            "__________________________________________________________________________________________________\n",
            "day_of_week_in (InputLayer)     [(None, 1)]          0                                            \n",
            "__________________________________________________________________________________________________\n",
            "month_in (InputLayer)           [(None, 1)]          0                                            \n",
            "__________________________________________________________________________________________________\n",
            "family_in (InputLayer)          [(None, 1)]          0                                            \n",
            "__________________________________________________________________________________________________\n",
            "class_in (InputLayer)           [(None, 1)]          0                                            \n",
            "__________________________________________________________________________________________________\n",
            "type_in (InputLayer)            [(None, 1)]          0                                            \n",
            "__________________________________________________________________________________________________\n",
            "cluster_in (InputLayer)         [(None, 1)]          0                                            \n",
            "__________________________________________________________________________________________________\n",
            "embedding (Embedding)           (None, 1, 7)         378         store_in[0][0]                   \n",
            "__________________________________________________________________________________________________\n",
            "embedding_1 (Embedding)         (None, 1, 64)        262400      items_in[0][0]                   \n",
            "__________________________________________________________________________________________________\n",
            "embedding_2 (Embedding)         (None, 1, 6)         186         day_of_month_in[0][0]            \n",
            "__________________________________________________________________________________________________\n",
            "embedding_3 (Embedding)         (None, 1, 3)         21          day_of_week_in[0][0]             \n",
            "__________________________________________________________________________________________________\n",
            "embedding_4 (Embedding)         (None, 1, 3)         24          month_in[0][0]                   \n",
            "__________________________________________________________________________________________________\n",
            "embedding_5 (Embedding)         (None, 1, 6)         198         family_in[0][0]                  \n",
            "__________________________________________________________________________________________________\n",
            "embedding_6 (Embedding)         (None, 1, 18)        6066        class_in[0][0]                   \n",
            "__________________________________________________________________________________________________\n",
            "embedding_7 (Embedding)         (None, 1, 2)         10          type_in[0][0]                    \n",
            "__________________________________________________________________________________________________\n",
            "embedding_8 (Embedding)         (None, 1, 4)         68          cluster_in[0][0]                 \n",
            "__________________________________________________________________________________________________\n",
            "concatenate (Concatenate)       (None, 1, 113)       0           embedding[0][0]                  \n",
            "                                                                 embedding_1[0][0]                \n",
            "                                                                 embedding_2[0][0]                \n",
            "                                                                 embedding_3[0][0]                \n",
            "                                                                 embedding_4[0][0]                \n",
            "                                                                 embedding_5[0][0]                \n",
            "                                                                 embedding_6[0][0]                \n",
            "                                                                 embedding_7[0][0]                \n",
            "                                                                 embedding_8[0][0]                \n",
            "__________________________________________________________________________________________________\n",
            "flatten (Flatten)               (None, 113)          0           concatenate[0][0]                \n",
            "__________________________________________________________________________________________________\n",
            "dropout (Dropout)               (None, 113)          0           flatten[0][0]                    \n",
            "__________________________________________________________________________________________________\n",
            "dense (Dense)                   (None, 70)           7980        dropout[0][0]                    \n",
            "__________________________________________________________________________________________________\n",
            "dropout_1 (Dropout)             (None, 70)           0           dense[0][0]                      \n",
            "__________________________________________________________________________________________________\n",
            "dense_1 (Dense)                 (None, 8)            568         dropout_1[0][0]                  \n",
            "__________________________________________________________________________________________________\n",
            "dropout_2 (Dropout)             (None, 8)            0           dense_1[0][0]                    \n",
            "__________________________________________________________________________________________________\n",
            "dense_2 (Dense)                 (None, 1)            9           dropout_2[0][0]                  \n",
            "==================================================================================================\n",
            "Total params: 277,908\n",
            "Trainable params: 277,908\n",
            "Non-trainable params: 0\n",
            "__________________________________________________________________________________________________\n"
          ],
          "name": "stdout"
        }
      ]
    },
    {
      "cell_type": "code",
      "metadata": {
        "colab": {
          "base_uri": "https://localhost:8080/"
        },
        "id": "vU-CaEWCXltR",
        "outputId": "6b1e38e6-7ef4-44e4-cd75-9762c32f2f1a"
      },
      "source": [
        "history = nn.fit([tr_data.s_enc, tr_data.i_enc, tr_data.day_of_month, tr_data.day_of_week, tr_data.month, tr_data.family, tr_data['class'], tr_data['type'], tr_data.cluster], tr_data.unit_sales, batch_size=64, epochs=5, \r\n",
        "           validation_data=([val_data.s_enc, val_data.i_enc, val_data.day_of_month, val_data.day_of_week, val_data.month, val_data.family, val_data['class'], val_data['type'], val_data.cluster], val_data.unit_sales), callbacks = set_callbacks(description='e_nn'))"
      ],
      "execution_count": 61,
      "outputs": [
        {
          "output_type": "stream",
          "text": [
            "Epoch 1/5\n",
            "347458/347458 [==============================] - 1512s 4ms/step - loss: 1.2194 - val_loss: 0.9374\n",
            "Epoch 2/5\n",
            "347458/347458 [==============================] - 1486s 4ms/step - loss: 1.1575 - val_loss: 0.9620\n",
            "Epoch 3/5\n",
            "347458/347458 [==============================] - 1476s 4ms/step - loss: 1.1562 - val_loss: 0.9551\n",
            "Epoch 4/5\n",
            "347458/347458 [==============================] - 1549s 4ms/step - loss: 1.1546 - val_loss: 0.9326\n",
            "Epoch 5/5\n",
            "347458/347458 [==============================] - 1522s 4ms/step - loss: 1.1548 - val_loss: 0.9558\n"
          ],
          "name": "stdout"
        }
      ]
    },
    {
      "cell_type": "code",
      "metadata": {
        "id": "LEX4d6AHsKTM"
      },
      "source": [
        "tr_loss_mse = history.history['loss'][-1]\r\n",
        "val_loss_mse = history.history['val_loss'][-1]"
      ],
      "execution_count": 62,
      "outputs": []
    },
    {
      "cell_type": "code",
      "metadata": {
        "id": "nt8AlstELnva",
        "colab": {
          "base_uri": "https://localhost:8080/",
          "height": 294
        },
        "outputId": "3a6152b4-399f-4438-8cb2-a7a8ad821a6f"
      },
      "source": [
        "plt_model(history)"
      ],
      "execution_count": 63,
      "outputs": [
        {
          "output_type": "display_data",
          "data": {
            "image/png": "[encoded data removed]",
            "text/plain": [
              "<Figure size 432x288 with 1 Axes>"
            ]
          },
          "metadata": {
            "tags": [],
            "needs_background": "light"
          }
        }
      ]
    },
    {
      "cell_type": "code",
      "metadata": {
        "id": "0DluoKlfvghE"
      },
      "source": [
        "nn.load_weights(path + 'best_model_weights_{}.h5'.format('e_nn'))\r\n",
        "preds = nn.predict([test_data.s_enc, test_data.i_enc, test_data.day_of_month, test_data.day_of_week, test_data.month, test_data.family, test_data['class'], test_data['type'], test_data.cluster])\r\n",
        "nn_kaggle_preds = create_csv_to_kaggle(path+'0final_e_nn.csv', preds)"
      ],
      "execution_count": 64,
      "outputs": []
    },
    {
      "cell_type": "code",
      "metadata": {
        "colab": {
          "base_uri": "https://localhost:8080/",
          "height": 137
        },
        "id": "t_qPdaN2qJTP",
        "outputId": "a333cc1a-9207-4bed-cf96-61e9e1ea5878"
      },
      "source": [
        "score_from_kaggle = 1.18640\r\n",
        "scores = [tr_loss_mse, val_loss_mse, score_from_kaggle]\r\n",
        "Add_Score_to_result_table(scores_table, 'E : Category Embedding NN', scores)"
      ],
      "execution_count": 88,
      "outputs": [
        {
          "output_type": "execute_result",
          "data": {
            "text/html": [
              "<div>\n",
              "<style scoped>\n",
              "    .dataframe tbody tr th:only-of-type {\n",
              "        vertical-align: middle;\n",
              "    }\n",
              "\n",
              "    .dataframe tbody tr th {\n",
              "        vertical-align: top;\n",
              "    }\n",
              "\n",
              "    .dataframe thead th {\n",
              "        text-align: right;\n",
              "    }\n",
              "</style>\n",
              "<table border=\"1\" class=\"dataframe\">\n",
              "  <thead>\n",
              "    <tr style=\"text-align: right;\">\n",
              "      <th></th>\n",
              "      <th>0</th>\n",
              "      <th>B : ML algorithm XGB</th>\n",
              "      <th>B : ML algorithm Random Forest</th>\n",
              "      <th>D : Embedding NN No Bias</th>\n",
              "      <th>D : Embedding NN Bias</th>\n",
              "      <th>E : Category Embedding NN</th>\n",
              "    </tr>\n",
              "  </thead>\n",
              "  <tbody>\n",
              "    <tr>\n",
              "      <th>0</th>\n",
              "      <td>train_score</td>\n",
              "      <td>1.690591</td>\n",
              "      <td>1.222701</td>\n",
              "      <td>1.201341</td>\n",
              "      <td>1.151640</td>\n",
              "      <td>1.154801</td>\n",
              "    </tr>\n",
              "    <tr>\n",
              "      <th>1</th>\n",
              "      <td>val_score</td>\n",
              "      <td>1.660086</td>\n",
              "      <td>1.211192</td>\n",
              "      <td>1.021849</td>\n",
              "      <td>1.013128</td>\n",
              "      <td>0.955837</td>\n",
              "    </tr>\n",
              "    <tr>\n",
              "      <th>2</th>\n",
              "      <td>test_score</td>\n",
              "      <td>1.026980</td>\n",
              "      <td>1.314380</td>\n",
              "      <td>1.190820</td>\n",
              "      <td>1.219180</td>\n",
              "      <td>1.186400</td>\n",
              "    </tr>\n",
              "  </tbody>\n",
              "</table>\n",
              "</div>"
            ],
            "text/plain": [
              "             0  ...  E : Category Embedding NN\n",
              "0  train_score  ...                   1.154801\n",
              "1    val_score  ...                   0.955837\n",
              "2   test_score  ...                   1.186400\n",
              "\n",
              "[3 rows x 6 columns]"
            ]
          },
          "metadata": {
            "tags": []
          },
          "execution_count": 88
        }
      ]
    },
    {
      "cell_type": "markdown",
      "metadata": {
        "id": "ru9zqwpV2u_V"
      },
      "source": [
        "## f. Insights"
      ]
    },
    {
      "cell_type": "markdown",
      "metadata": {
        "id": "L4uPKtoAiGKD"
      },
      "source": [
        "when create an Embedding layer we found that the best value for the argument n_out is square root of n_in.\r\n",
        "\r\n",
        "we found out the the n_in argument cant be consistant and depend on the number of unique values of each feature.\r\n",
        "\r\n",
        "when using category embedding each feature represented as vector hence the new  representation need more data so features need to be selected carfully.\r\n",
        "\r\n",
        "we didnt Succeeded to improve the result with bias, maybe it because the model wasnt enough complex or maybe it was needed more epoches\r\n"
      ]
    },
    {
      "cell_type": "markdown",
      "metadata": {
        "id": "npBQGmP_-TWu"
      },
      "source": [
        "## g. Feature extractor"
      ]
    },
    {
      "cell_type": "code",
      "metadata": {
        "id": "xeswTkvTue3g",
        "colab": {
          "base_uri": "https://localhost:8080/"
        },
        "outputId": "0f1d5d73-6f52-496c-ad09-f86977c63db2"
      },
      "source": [
        "gc.collect()\r\n",
        "nn.load_weights(path + 'best_model_weights_{}.h5'.format('e_nn'))\r\n",
        "nn_no_last_layer= Model(nn.input, nn.layers[-2].output)\r\n",
        "nn_no_last_layer.summary()"
      ],
      "execution_count": 58,
      "outputs": [
        {
          "output_type": "stream",
          "text": [
            "Model: \"model_1\"\n",
            "__________________________________________________________________________________________________\n",
            "Layer (type)                    Output Shape         Param #     Connected to                     \n",
            "==================================================================================================\n",
            "store_in (InputLayer)           [(None, 1)]          0                                            \n",
            "__________________________________________________________________________________________________\n",
            "items_in (InputLayer)           [(None, 1)]          0                                            \n",
            "__________________________________________________________________________________________________\n",
            "day_of_month_in (InputLayer)    [(None, 1)]          0                                            \n",
            "__________________________________________________________________________________________________\n",
            "day_of_week_in (InputLayer)     [(None, 1)]          0                                            \n",
            "__________________________________________________________________________________________________\n",
            "month_in (InputLayer)           [(None, 1)]          0                                            \n",
            "__________________________________________________________________________________________________\n",
            "family_in (InputLayer)          [(None, 1)]          0                                            \n",
            "__________________________________________________________________________________________________\n",
            "class_in (InputLayer)           [(None, 1)]          0                                            \n",
            "__________________________________________________________________________________________________\n",
            "type_in (InputLayer)            [(None, 1)]          0                                            \n",
            "__________________________________________________________________________________________________\n",
            "cluster_in (InputLayer)         [(None, 1)]          0                                            \n",
            "__________________________________________________________________________________________________\n",
            "embedding (Embedding)           (None, 1, 7)         378         store_in[0][0]                   \n",
            "__________________________________________________________________________________________________\n",
            "embedding_1 (Embedding)         (None, 1, 64)        262400      items_in[0][0]                   \n",
            "__________________________________________________________________________________________________\n",
            "embedding_2 (Embedding)         (None, 1, 6)         186         day_of_month_in[0][0]            \n",
            "__________________________________________________________________________________________________\n",
            "embedding_3 (Embedding)         (None, 1, 3)         21          day_of_week_in[0][0]             \n",
            "__________________________________________________________________________________________________\n",
            "embedding_4 (Embedding)         (None, 1, 3)         24          month_in[0][0]                   \n",
            "__________________________________________________________________________________________________\n",
            "embedding_5 (Embedding)         (None, 1, 6)         198         family_in[0][0]                  \n",
            "__________________________________________________________________________________________________\n",
            "embedding_6 (Embedding)         (None, 1, 18)        6066        class_in[0][0]                   \n",
            "__________________________________________________________________________________________________\n",
            "embedding_7 (Embedding)         (None, 1, 2)         10          type_in[0][0]                    \n",
            "__________________________________________________________________________________________________\n",
            "embedding_8 (Embedding)         (None, 1, 4)         68          cluster_in[0][0]                 \n",
            "__________________________________________________________________________________________________\n",
            "concatenate (Concatenate)       (None, 1, 113)       0           embedding[0][0]                  \n",
            "                                                                 embedding_1[0][0]                \n",
            "                                                                 embedding_2[0][0]                \n",
            "                                                                 embedding_3[0][0]                \n",
            "                                                                 embedding_4[0][0]                \n",
            "                                                                 embedding_5[0][0]                \n",
            "                                                                 embedding_6[0][0]                \n",
            "                                                                 embedding_7[0][0]                \n",
            "                                                                 embedding_8[0][0]                \n",
            "__________________________________________________________________________________________________\n",
            "flatten (Flatten)               (None, 113)          0           concatenate[0][0]                \n",
            "__________________________________________________________________________________________________\n",
            "dropout (Dropout)               (None, 113)          0           flatten[0][0]                    \n",
            "__________________________________________________________________________________________________\n",
            "dense (Dense)                   (None, 70)           7980        dropout[0][0]                    \n",
            "__________________________________________________________________________________________________\n",
            "dropout_1 (Dropout)             (None, 70)           0           dense[0][0]                      \n",
            "__________________________________________________________________________________________________\n",
            "dense_1 (Dense)                 (None, 8)            568         dropout_1[0][0]                  \n",
            "__________________________________________________________________________________________________\n",
            "dropout_2 (Dropout)             (None, 8)            0           dense_1[0][0]                    \n",
            "==================================================================================================\n",
            "Total params: 277,899\n",
            "Trainable params: 277,899\n",
            "Non-trainable params: 0\n",
            "__________________________________________________________________________________________________\n"
          ],
          "name": "stdout"
        }
      ]
    },
    {
      "cell_type": "markdown",
      "metadata": {
        "id": "SWG98vsJ3NwE"
      },
      "source": [
        "embedding model Predict without last layer : Feature extractor"
      ]
    },
    {
      "cell_type": "code",
      "metadata": {
        "id": "SvIjn18OuMpH"
      },
      "source": [
        "tr_preds =nn_no_last_layer.predict([tr_data.s_enc, tr_data.i_enc, tr_data.day_of_month, tr_data.day_of_week, tr_data.month, tr_data.family, tr_data['class'], tr_data['type'], tr_data.cluster])\r\n",
        "val_preds = nn_no_last_layer.predict([val_data.s_enc, val_data.i_enc, val_data.day_of_month, val_data.day_of_week, val_data.month, val_data.family, val_data['class'], val_data['type'], val_data.cluster])\r\n",
        "test_preds = nn_no_last_layer.predict([test_data.s_enc, test_data.i_enc, test_data.day_of_month, test_data.day_of_week, test_data.month, test_data.family, test_data['class'], test_data['type'], test_data.cluster])"
      ],
      "execution_count": 59,
      "outputs": []
    },
    {
      "cell_type": "markdown",
      "metadata": {
        "id": "ZQtHNUvt3YFR"
      },
      "source": [
        "Predict with XGB Regressor"
      ]
    },
    {
      "cell_type": "code",
      "metadata": {
        "id": "V8_TdTaPq1Ej",
        "colab": {
          "base_uri": "https://localhost:8080/"
        },
        "outputId": "cdcd4fb4-ce47-43f6-fb27-ef01237e8f10"
      },
      "source": [
        "xg_reg = xgb.XGBRegressor(objective ='reg:linear', colsample_bytree = 0.3, learning_rate = 0.1,max_depth = 3, alpha = 10, n_estimators = 3)\r\n",
        "xg_reg.fit(tr_preds, tr_data.unit_sales)"
      ],
      "execution_count": 60,
      "outputs": [
        {
          "output_type": "stream",
          "text": [
            "[07:14:10] WARNING: /workspace/src/objective/regression_obj.cu:152: reg:linear is now deprecated in favor of reg:squarederror.\n",
            "[07:14:10] WARNING: /workspace/src/learner.cc:686: Tree method is automatically selected to be 'approx' for faster speed. To use old behavior (exact greedy algorithm on single machine), set tree_method to 'exact'.\n"
          ],
          "name": "stdout"
        },
        {
          "output_type": "execute_result",
          "data": {
            "text/plain": [
              "XGBRegressor(alpha=10, base_score=0.5, booster='gbtree', colsample_bylevel=1,\n",
              "             colsample_bynode=1, colsample_bytree=0.3, gamma=0,\n",
              "             importance_type='gain', learning_rate=0.1, max_delta_step=0,\n",
              "             max_depth=3, min_child_weight=1, missing=None, n_estimators=3,\n",
              "             n_jobs=1, nthread=None, objective='reg:linear', random_state=0,\n",
              "             reg_alpha=0, reg_lambda=1, scale_pos_weight=1, seed=None,\n",
              "             silent=None, subsample=1, verbosity=1)"
            ]
          },
          "metadata": {
            "tags": []
          },
          "execution_count": 60
        }
      ]
    },
    {
      "cell_type": "code",
      "metadata": {
        "id": "MpdOPyllwC-M",
        "colab": {
          "base_uri": "https://localhost:8080/"
        },
        "outputId": "017b5526-4406-4eb9-8e65-8a8dca2287dd"
      },
      "source": [
        "tr_preds_xg = xg_reg.predict(tr_preds)\r\n",
        "tr_loss_mse = NWRMSLE(tr_data.unit_sales, tr_preds_xg, [1]*len(tr_data))\r\n",
        "print('2017_train_loss:'+str(tr_loss_mse))"
      ],
      "execution_count": 61,
      "outputs": [
        {
          "output_type": "stream",
          "text": [
            "2017_train_loss:1.8018155970001348\n"
          ],
          "name": "stdout"
        }
      ]
    },
    {
      "cell_type": "code",
      "metadata": {
        "id": "CK3oIWhzqv64",
        "colab": {
          "base_uri": "https://localhost:8080/"
        },
        "outputId": "6836e07d-2b66-4149-dfe5-c34b458aa00d"
      },
      "source": [
        "val_preds_xg = xg_reg.predict(val_preds)\r\n",
        "val_loss_mse = NWRMSLE(val_data.unit_sales, val_preds_xg, [1]*len(val_data))\r\n",
        "print('2017_val_loss:'+str(val_loss_mse))"
      ],
      "execution_count": 62,
      "outputs": [
        {
          "output_type": "stream",
          "text": [
            "2017_val_loss:1.7685269926179505\n"
          ],
          "name": "stdout"
        }
      ]
    },
    {
      "cell_type": "code",
      "metadata": {
        "id": "_Kw1lmy09HzB"
      },
      "source": [
        "test_preds_xg = xg_reg.predict(test_preds)\r\n",
        "nn_no_last_layer_kaggle_preds = create_csv_to_kaggle(path+'0final_g_xg.csv', test_preds_xg)"
      ],
      "execution_count": 63,
      "outputs": []
    },
    {
      "cell_type": "markdown",
      "metadata": {
        "id": "HYYgN9MMYBAY"
      },
      "source": [
        "![image.png](data:image/png;base64,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)"
      ]
    },
    {
      "cell_type": "code",
      "metadata": {
        "colab": {
          "base_uri": "https://localhost:8080/",
          "height": 137
        },
        "id": "FzVROcxPqp_v",
        "outputId": "a5474c79-ef5e-40dd-8f1c-7fabd465a9d3"
      },
      "source": [
        "score_from_kaggle = 0.98228\r\n",
        "scores = [tr_loss_mse, val_loss_mse, score_from_kaggle]\r\n",
        "Add_Score_to_result_table(scores_table, 'G : Feature extractor XGB', scores)"
      ],
      "execution_count": 89,
      "outputs": [
        {
          "output_type": "execute_result",
          "data": {
            "text/html": [
              "<div>\n",
              "<style scoped>\n",
              "    .dataframe tbody tr th:only-of-type {\n",
              "        vertical-align: middle;\n",
              "    }\n",
              "\n",
              "    .dataframe tbody tr th {\n",
              "        vertical-align: top;\n",
              "    }\n",
              "\n",
              "    .dataframe thead th {\n",
              "        text-align: right;\n",
              "    }\n",
              "</style>\n",
              "<table border=\"1\" class=\"dataframe\">\n",
              "  <thead>\n",
              "    <tr style=\"text-align: right;\">\n",
              "      <th></th>\n",
              "      <th>0</th>\n",
              "      <th>B : ML algorithm XGB</th>\n",
              "      <th>B : ML algorithm Random Forest</th>\n",
              "      <th>D : Embedding NN No Bias</th>\n",
              "      <th>D : Embedding NN Bias</th>\n",
              "      <th>E : Category Embedding NN</th>\n",
              "      <th>G : Feature extractor XGB</th>\n",
              "    </tr>\n",
              "  </thead>\n",
              "  <tbody>\n",
              "    <tr>\n",
              "      <th>0</th>\n",
              "      <td>train_score</td>\n",
              "      <td>1.690591</td>\n",
              "      <td>1.222701</td>\n",
              "      <td>1.201341</td>\n",
              "      <td>1.151640</td>\n",
              "      <td>1.154801</td>\n",
              "      <td>1.801816</td>\n",
              "    </tr>\n",
              "    <tr>\n",
              "      <th>1</th>\n",
              "      <td>val_score</td>\n",
              "      <td>1.660086</td>\n",
              "      <td>1.211192</td>\n",
              "      <td>1.021849</td>\n",
              "      <td>1.013128</td>\n",
              "      <td>0.955837</td>\n",
              "      <td>1.768527</td>\n",
              "    </tr>\n",
              "    <tr>\n",
              "      <th>2</th>\n",
              "      <td>test_score</td>\n",
              "      <td>1.026980</td>\n",
              "      <td>1.314380</td>\n",
              "      <td>1.190820</td>\n",
              "      <td>1.219180</td>\n",
              "      <td>1.186400</td>\n",
              "      <td>0.982280</td>\n",
              "    </tr>\n",
              "  </tbody>\n",
              "</table>\n",
              "</div>"
            ],
            "text/plain": [
              "             0  ...  G : Feature extractor XGB\n",
              "0  train_score  ...                   1.801816\n",
              "1    val_score  ...                   1.768527\n",
              "2   test_score  ...                   0.982280\n",
              "\n",
              "[3 rows x 7 columns]"
            ]
          },
          "metadata": {
            "tags": []
          },
          "execution_count": 89
        }
      ]
    },
    {
      "cell_type": "markdown",
      "metadata": {
        "id": "P26wfk2F3gPf"
      },
      "source": [
        "Predict with Random Forest"
      ]
    },
    {
      "cell_type": "code",
      "metadata": {
        "colab": {
          "base_uri": "https://localhost:8080/"
        },
        "id": "Sk08wS72qah5",
        "outputId": "c80286f4-2e5d-47b6-c8e3-5b96151147d9"
      },
      "source": [
        "rf_reg = RandomForestRegressor(n_estimators=5, max_depth = 3, n_jobs = -1, criterion='mse')\r\n",
        "rf_reg.fit(tr_preds, tr_data.unit_sales)"
      ],
      "execution_count": 65,
      "outputs": [
        {
          "output_type": "execute_result",
          "data": {
            "text/plain": [
              "RandomForestRegressor(bootstrap=True, ccp_alpha=0.0, criterion='mse',\n",
              "                      max_depth=3, max_features='auto', max_leaf_nodes=None,\n",
              "                      max_samples=None, min_impurity_decrease=0.0,\n",
              "                      min_impurity_split=None, min_samples_leaf=1,\n",
              "                      min_samples_split=2, min_weight_fraction_leaf=0.0,\n",
              "                      n_estimators=5, n_jobs=-1, oob_score=False,\n",
              "                      random_state=None, verbose=0, warm_start=False)"
            ]
          },
          "metadata": {
            "tags": []
          },
          "execution_count": 65
        }
      ]
    },
    {
      "cell_type": "code",
      "metadata": {
        "colab": {
          "base_uri": "https://localhost:8080/"
        },
        "id": "pw_VDVtzrTSR",
        "outputId": "c021a668-85f0-4a03-ae30-5621cd7ccaeb"
      },
      "source": [
        "tr_preds_rf = rf_reg.predict(tr_preds)\r\n",
        "tr_loss_mse = NWRMSLE(tr_data.unit_sales, tr_preds_rf, [1]*len(tr_data))\r\n",
        "print('2017_train_loss:'+str(tr_loss_mse))"
      ],
      "execution_count": 66,
      "outputs": [
        {
          "output_type": "stream",
          "text": [
            "2017_train_loss:0.8815291346546199\n"
          ],
          "name": "stdout"
        }
      ]
    },
    {
      "cell_type": "code",
      "metadata": {
        "colab": {
          "base_uri": "https://localhost:8080/"
        },
        "id": "k7t2SAz2rTWd",
        "outputId": "dfb0bd65-cbe6-4d95-8a45-7fa78a3be5a5"
      },
      "source": [
        "val_preds_rf = rf_reg.predict(val_preds)\r\n",
        "val_loss_mse = NWRMSLE(val_data.unit_sales, val_preds_rf, [1]*len(val_data))\r\n",
        "print('2017_val_loss:'+str(val_loss_mse))"
      ],
      "execution_count": 67,
      "outputs": [
        {
          "output_type": "stream",
          "text": [
            "2017_val_loss:0.8928055367273302\n"
          ],
          "name": "stdout"
        }
      ]
    },
    {
      "cell_type": "code",
      "metadata": {
        "id": "VoUzlDxrrXpL"
      },
      "source": [
        "test_preds_rf = rf_reg.predict(test_preds)\r\n",
        "nn_no_last_layer_kaggle_preds = create_csv_to_kaggle(path+'0final_g_rf.csv', test_preds_rf)"
      ],
      "execution_count": 68,
      "outputs": []
    },
    {
      "cell_type": "markdown",
      "metadata": {
        "id": "RGdlYPtFaGBU"
      },
      "source": [
        "![image.png](data:image/png;base64,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)"
      ]
    },
    {
      "cell_type": "code",
      "metadata": {
        "colab": {
          "base_uri": "https://localhost:8080/",
          "height": 137
        },
        "id": "CzhLfgqNqy3G",
        "outputId": "bd8aa973-b2c3-495a-8c6e-df4e420d1586"
      },
      "source": [
        "score_from_kaggle = 1.12076\r\n",
        "scores = [tr_loss_mse, val_loss_mse, score_from_kaggle]\r\n",
        "Add_Score_to_result_table(scores_table, 'G : Feature extractor Random Forest', scores)"
      ],
      "execution_count": 90,
      "outputs": [
        {
          "output_type": "execute_result",
          "data": {
            "text/html": [
              "<div>\n",
              "<style scoped>\n",
              "    .dataframe tbody tr th:only-of-type {\n",
              "        vertical-align: middle;\n",
              "    }\n",
              "\n",
              "    .dataframe tbody tr th {\n",
              "        vertical-align: top;\n",
              "    }\n",
              "\n",
              "    .dataframe thead th {\n",
              "        text-align: right;\n",
              "    }\n",
              "</style>\n",
              "<table border=\"1\" class=\"dataframe\">\n",
              "  <thead>\n",
              "    <tr style=\"text-align: right;\">\n",
              "      <th></th>\n",
              "      <th>0</th>\n",
              "      <th>B : ML algorithm XGB</th>\n",
              "      <th>B : ML algorithm Random Forest</th>\n",
              "      <th>D : Embedding NN No Bias</th>\n",
              "      <th>D : Embedding NN Bias</th>\n",
              "      <th>E : Category Embedding NN</th>\n",
              "      <th>G : Feature extractor XGB</th>\n",
              "      <th>G : Feature extractor Random Forest</th>\n",
              "    </tr>\n",
              "  </thead>\n",
              "  <tbody>\n",
              "    <tr>\n",
              "      <th>0</th>\n",
              "      <td>train_score</td>\n",
              "      <td>1.690591</td>\n",
              "      <td>1.222701</td>\n",
              "      <td>1.201341</td>\n",
              "      <td>1.151640</td>\n",
              "      <td>1.154801</td>\n",
              "      <td>1.801816</td>\n",
              "      <td>0.881529</td>\n",
              "    </tr>\n",
              "    <tr>\n",
              "      <th>1</th>\n",
              "      <td>val_score</td>\n",
              "      <td>1.660086</td>\n",
              "      <td>1.211192</td>\n",
              "      <td>1.021849</td>\n",
              "      <td>1.013128</td>\n",
              "      <td>0.955837</td>\n",
              "      <td>1.768527</td>\n",
              "      <td>0.892806</td>\n",
              "    </tr>\n",
              "    <tr>\n",
              "      <th>2</th>\n",
              "      <td>test_score</td>\n",
              "      <td>1.026980</td>\n",
              "      <td>1.314380</td>\n",
              "      <td>1.190820</td>\n",
              "      <td>1.219180</td>\n",
              "      <td>1.186400</td>\n",
              "      <td>0.982280</td>\n",
              "      <td>1.120760</td>\n",
              "    </tr>\n",
              "  </tbody>\n",
              "</table>\n",
              "</div>"
            ],
            "text/plain": [
              "             0  ...  G : Feature extractor Random Forest\n",
              "0  train_score  ...                             0.881529\n",
              "1    val_score  ...                             0.892806\n",
              "2   test_score  ...                             1.120760\n",
              "\n",
              "[3 rows x 8 columns]"
            ]
          },
          "metadata": {
            "tags": []
          },
          "execution_count": 90
        }
      ]
    },
    {
      "cell_type": "markdown",
      "metadata": {
        "id": "zIHHCOAl3p3-"
      },
      "source": [
        "in section b we get a solid benchmark of loss = 1.026980 using XGB and loss = 1.314380 using Random Forest. Easy to see that the XGB return good result, but the train and val loss are not reflects the test score. features - store, item and date features.\r\n",
        "\r\n",
        "in section d we get test score of loss = 1.190820 nn model when we using same features in section b as embedding layers. we tried to improve our results with adding biases to each layer, but it doesn't improve it.\r\n",
        "\r\n",
        "in section e we get score of loss = 1.186400, a little improvement of our last section. we selected the best features to the model by feature selection using random forest, and used this features as embedding layer as well. features - store, item, date features, family and class( item features), type and cluster( store features).\r\n",
        "\r\n",
        "in section g we cross our benchmark from section b and get score of loss = 0.982280\tusing XGB, and loss = 1.120760. we used our model in section e as feature extractor to ML algorithm.\r\n"
      ]
    }
  ]
}